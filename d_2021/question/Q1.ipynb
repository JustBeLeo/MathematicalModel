{
 "cells": [
  {
   "cell_type": "code",
   "execution_count": 4,
   "outputs": [],
   "source": [
    "import pandas as pd\n",
    "\n",
    "from d_2021.utils.import_utils import get_objs_in_csv\n",
    "from d_2021.utils.math_utils import get_box_plot\n",
    "from d_2021.utils.common_utils import *"
   ],
   "metadata": {
    "collapsed": false,
    "pycharm": {
     "name": "#%%\n"
    }
   }
  },
  {
   "cell_type": "code",
   "execution_count": 5,
   "outputs": [],
   "source": [
    "def data_pre_threat():\n",
    "    md_names, md_df = get_objs_in_csv(\"../dataset/train/Molecular_Descriptor.csv\")\n",
    "    print('总特征数:', len(md_names) - 1)\n",
    "    error_names = []\n",
    "    for md_name in md_names[1:]:\n",
    "        row = md_df[md_name]\n",
    "        row = str_list_2_int(row)\n",
    "        min_num, Q1, Q2, Q3, max_num = get_box_plot(row, md_name, False)\n",
    "        # 计算异常值数量\n",
    "        error_count = 0\n",
    "        for n in row:\n",
    "            if n < min_num or n > max_num:\n",
    "                error_count += 1\n",
    "        if error_count > 100:\n",
    "            error_names.append(md_name)\n",
    "    print('异常值数量:', len(error_names))\n",
    "    md_df_2 = remove_names(md_df, md_names, error_names)\n",
    "    # 含0大于0.9的列\n",
    "    zero_names = []\n",
    "    for md_name in md_names[1:]:\n",
    "        row = md_df_2[md_name]\n",
    "        p = count_zero(row)\n",
    "        if p > 0.9:\n",
    "            zero_names.append(md_name)\n",
    "    print('0值大于90%数量:', len(zero_names))\n",
    "    md_df_3 = remove_names(md_df, md_names, zero_names)\n",
    "    print('筛选后总数', len(md_names) - 1)\n",
    "    return md_df_3, md_names"
   ],
   "metadata": {
    "collapsed": false,
    "pycharm": {
     "name": "#%%\n"
    }
   }
  },
  {
   "cell_type": "code",
   "execution_count": 6,
   "outputs": [
    {
     "name": "stdout",
     "output_type": "stream",
     "text": [
      "总特征数: 729\n",
      "异常值数量: 125\n",
      "0值大于90%数量: 327\n",
      "筛选后总数 277\n"
     ]
    },
    {
     "data": {
      "text/plain": "(                                                 SMILES nAcid    ALogP  \\\n 0     Oc1ccc2O[C@H]([C@H](Sc2c1)C3CCCC3)c4ccc(OCCN5C...     0   -0.286   \n 1     Oc1ccc2O[C@H]([C@H](Sc2c1)C3CCCCCC3)c4ccc(OCCN...     0   -0.862   \n 2     Oc1ccc(cc1)[C@H]2Sc3cc(O)ccc3O[C@H]2c4ccc(OCCN...     0   0.7296   \n 3     Oc1ccc2O[C@H]([C@@H](CC3CCCCC3)Sc2c1)c4ccc(OCC...     0  -0.3184   \n 4     Oc1ccc2O[C@H]([C@@H](Cc3ccccc3)Sc2c1)c4ccc(OCC...     0   1.3551   \n ...                                                 ...   ...      ...   \n 1969  COc1cc(OC)cc(\\C=C\\c2cccc(OS(=O)(=O)C3CC4OC3C(=...     0   1.8193   \n 1970  Oc1ccc(cc1)C2=C(C3OC2CC3S(=O)(=O)Oc4cccc(\\C=C\\...     0   1.6903   \n 1971  Oc1ccc(cc1)C2=C(C3OC2CC3S(=O)(=O)Oc4ccc(\\C=C\\c...     0   1.6903   \n 1972  Oc1ccc(cc1)C2=C([C@H]3O[C@H]2C[C@@H]3S(=O)(=O)...     0   1.3365   \n 1973  COc1cc(OC)cc(\\C=C\\c2ccc(OS(=O)(=O)[C@H]3C[C@H]...     0   1.8193   \n \n           ALogp2       AMR       apol naAromAtom nAromBond nAtom nHeavyAtom  \\\n 0       0.081796  126.1188  74.170169         12        12    64         31   \n 1       0.743044   131.942  80.357341         12        12    70         33   \n 2     0.53231616  139.9304  74.064997         18        18    62         33   \n 3     0.10137856  133.4822  80.357341         12        12    70         33   \n 4     1.83629601  143.1903  76.356583         18        18    64         33   \n ...          ...       ...        ...        ...       ...   ...        ...   \n 1969  3.30985249  177.6817   89.15979         24        24    73         43   \n 1970  2.85711409  167.6057  82.972618         24        24    67         41   \n 1971  2.85711409  167.6057  82.972618         24        24    67         41   \n 1972  1.78623225  125.5605   63.28786         18        18    51         31   \n 1973  3.30985249  177.6817   89.15979         24        24    73         43   \n \n       ...           MW       WTPT-1       WTPT-2       WTPT-3       WTPT-4  \\\n 0     ...  439.2181149  64.77168028  2.089409041   15.4714447  8.858909768   \n 1     ...   467.249415  68.96002385  2.089697692  15.48694716  8.863774364   \n 2     ...  463.1817294  68.74892346  2.083300711  18.01111353  11.39041152   \n 3     ...   467.249415  68.88369563  2.087384716  15.46836531  8.857943468   \n 4     ...  461.2024649  68.88369563  2.087384716  15.46836531  8.857943468   \n ...   ...          ...          ...          ...          ...          ...   \n 1969  ...  598.1661389  88.70999637  2.063023171  25.47048073  21.94699099   \n 1970  ...  570.1348388  84.66208766  2.064928967  24.92896193  21.40558871   \n 1971  ...  570.1348388  84.66064238  2.064893717  24.92308334  21.40088348   \n 1972  ...  436.0980594  64.17134623  2.070043427  19.84192388  16.32687268   \n 1973  ...  598.1661389  88.70852239  2.062988893  25.46452874  21.94223566   \n \n            WTPT-5 WPATH WPOL  XLogP Zagreb  \n 0     3.406628173  3011   47  4.666    166  \n 1     3.406648431  3516   54  5.804    174  \n 2     3.406643726  3542   52  2.964    176  \n 3     3.406624149  3594   50  6.015    174  \n 4     3.406624149  3594   50  4.462    174  \n ...           ...   ...  ...    ...    ...  \n 1969            0  7121   70  2.526    236  \n 1970            0  6171   66  1.884    228  \n 1971            0  6421   66  1.884    228  \n 1972            0  2583   50  0.782    174  \n 1973            0  7421   70  2.526    236  \n \n [1974 rows x 403 columns],\n ['SMILES',\n  'ALogP',\n  'ALogp2',\n  'AMR',\n  'apol',\n  'naAromAtom',\n  'nAromBond',\n  'nAtom',\n  'nHeavyAtom',\n  'nH',\n  'nC',\n  'nN',\n  'nO',\n  'nS',\n  'nX',\n  'ATSc1',\n  'ATSc2',\n  'ATSc3',\n  'ATSc4',\n  'ATSc5',\n  'ATSm1',\n  'ATSm2',\n  'ATSm3',\n  'ATSm4',\n  'ATSm5',\n  'ATSp1',\n  'ATSp2',\n  'ATSp3',\n  'ATSp4',\n  'ATSp5',\n  'nBase',\n  'BCUTw-1l',\n  'BCUTw-1h',\n  'BCUTc-1h',\n  'BCUTp-1l',\n  'BCUTp-1h',\n  'nBonds',\n  'nBonds2',\n  'nBondsS',\n  'nBondsS2',\n  'nBondsS3',\n  'nBondsD',\n  'nBondsD2',\n  'nBondsM',\n  'bpol',\n  'C1SP2',\n  'C2SP2',\n  'C3SP2',\n  'C1SP3',\n  'C2SP3',\n  'SCH-5',\n  'SCH-6',\n  'SCH-7',\n  'VCH-5',\n  'VCH-6',\n  'VCH-7',\n  'SC-3',\n  'SC-4',\n  'SC-5',\n  'VC-3',\n  'VC-5',\n  'SPC-4',\n  'SPC-5',\n  'SPC-6',\n  'VPC-4',\n  'VPC-5',\n  'VPC-6',\n  'SP-0',\n  'SP-1',\n  'SP-2',\n  'SP-3',\n  'SP-4',\n  'SP-5',\n  'SP-6',\n  'SP-7',\n  'VP-0',\n  'VP-1',\n  'VP-2',\n  'VP-3',\n  'VP-4',\n  'VP-5',\n  'VP-6',\n  'VP-7',\n  'CrippenLogP',\n  'CrippenMR',\n  'ECCEN',\n  'nHBd',\n  'nHBa',\n  'nwHBa',\n  'nHBint4',\n  'nHBint5',\n  'nHBint6',\n  'nHBint7',\n  'nHBint8',\n  'nHBint10',\n  'nHsOH',\n  'nHaaCH',\n  'nHCsats',\n  'nHCsatu',\n  'nHother',\n  'nsCH3',\n  'nssCH2',\n  'naaCH',\n  'nsssCH',\n  'ndssC',\n  'naasC',\n  'naaaC',\n  'nsssN',\n  'nsOH',\n  'ndO',\n  'nssO',\n  'SHBd',\n  'SHBa',\n  'SwHBa',\n  'SHBint5',\n  'SHBint6',\n  'SHBint7',\n  'SHBint10',\n  'SHsOH',\n  'SHaaCH',\n  'SHCsats',\n  'SHCsatu',\n  'SHother',\n  'SsCH3',\n  'SssCH2',\n  'SaaCH',\n  'SaasC',\n  'SaaaC',\n  'SsssN',\n  'SsOH',\n  'SdO',\n  'SssO',\n  'minHBa',\n  'minwHBa',\n  'minHBint4',\n  'minHBint5',\n  'minHBint7',\n  'minHBint10',\n  'minHsOH',\n  'minHaaCH',\n  'minHCsats',\n  'minHCsatu',\n  'minHother',\n  'minsCH3',\n  'minssCH2',\n  'minaaCH',\n  'minaasC',\n  'minaaaC',\n  'minsssN',\n  'mindO',\n  'minssO',\n  'maxHBa',\n  'maxwHBa',\n  'maxHBint4',\n  'maxHBint5',\n  'maxHBint6',\n  'maxHBint7',\n  'maxHBint10',\n  'maxHsOH',\n  'maxHaaCH',\n  'maxHCsats',\n  'maxHCsatu',\n  'maxHother',\n  'maxsCH3',\n  'maxssCH2',\n  'maxaaCH',\n  'maxdssC',\n  'maxaasC',\n  'maxaaaC',\n  'maxsssN',\n  'maxdO',\n  'maxssO',\n  'sumI',\n  'gmax',\n  'hmin',\n  'gmin',\n  'LipoaffinityIndex',\n  'MAXDP',\n  'DELS',\n  'MAXDP2',\n  'DELS2',\n  'ETA_Alpha',\n  'ETA_AlphaP',\n  'ETA_dAlpha_B',\n  'ETA_Epsilon_1',\n  'ETA_Epsilon_2',\n  'ETA_Epsilon_3',\n  'ETA_Epsilon_4',\n  'ETA_Epsilon_5',\n  'ETA_dEpsilon_A',\n  'ETA_dEpsilon_B',\n  'ETA_dEpsilon_C',\n  'ETA_dEpsilon_D',\n  'ETA_Psi_1',\n  'ETA_dPsi_A',\n  'ETA_Shape_P',\n  'ETA_Shape_Y',\n  'ETA_Shape_X',\n  'ETA_Beta',\n  'ETA_BetaP',\n  'ETA_Beta_s',\n  'ETA_BetaP_s',\n  'ETA_Beta_ns',\n  'ETA_BetaP_ns',\n  'ETA_dBeta',\n  'ETA_dBetaP',\n  'ETA_Beta_ns_d',\n  'ETA_BetaP_ns_d',\n  'ETA_Eta',\n  'ETA_EtaP',\n  'ETA_Eta_R',\n  'ETA_Eta_F',\n  'ETA_EtaP_F',\n  'ETA_Eta_L',\n  'ETA_EtaP_L',\n  'ETA_Eta_R_L',\n  'ETA_Eta_F_L',\n  'ETA_EtaP_F_L',\n  'ETA_Eta_B',\n  'ETA_EtaP_B',\n  'ETA_Eta_B_RC',\n  'ETA_EtaP_B_RC',\n  'FMF',\n  'fragC',\n  'nHBAcc',\n  'nHBAcc2',\n  'nHBAcc3',\n  'nHBAcc_Lipinski',\n  'nHBDon',\n  'nHBDon_Lipinski',\n  'HybRatio',\n  'Kier1',\n  'Kier2',\n  'Kier3',\n  'nAtomLC',\n  'nAtomP',\n  'nAtomLAC',\n  'MLogP',\n  'McGowan_Volume',\n  'MDEC-12',\n  'MDEC-13',\n  'MDEC-22',\n  'MDEC-23',\n  'MDEC-33',\n  'MDEO-11',\n  'MDEO-12',\n  'MDEO-22',\n  'MLFER_A',\n  'MLFER_BH',\n  'MLFER_BO',\n  'MLFER_S',\n  'MLFER_E',\n  'MLFER_L',\n  'PetitjeanNumber',\n  'nRing',\n  'n5Ring',\n  'n6Ring',\n  'nF9Ring',\n  'nF10Ring',\n  'nTRing',\n  'nT5Ring',\n  'nT6Ring',\n  'nT9Ring',\n  'nT10Ring',\n  'nRotB',\n  'TopoPSA',\n  'VABC',\n  'VAdjMat',\n  'MW',\n  'WTPT-1',\n  'WTPT-2',\n  'WTPT-3',\n  'WTPT-4',\n  'WTPT-5',\n  'WPATH',\n  'WPOL',\n  'XLogP',\n  'Zagreb'])"
     },
     "execution_count": 6,
     "metadata": {},
     "output_type": "execute_result"
    }
   ],
   "source": [
    "pre_threat_df, pre_threat_names = data_pre_threat()\n",
    "pre_threat_df, pre_threat_names"
   ],
   "metadata": {
    "collapsed": false,
    "pycharm": {
     "name": "#%%\n"
    }
   }
  },
  {
   "cell_type": "code",
   "execution_count": 7,
   "outputs": [],
   "source": [
    "era_names, era_df = get_objs_in_csv(\"../dataset/train/ERa_activity.csv\")"
   ],
   "metadata": {
    "collapsed": false,
    "pycharm": {
     "name": "#%%\n"
    }
   }
  },
  {
   "cell_type": "code",
   "execution_count": 8,
   "outputs": [],
   "source": [
    "def to_float_df(m_list: list):\n",
    "    t_list = []\n",
    "    for x in m_list:\n",
    "        t_list.append(float(x))\n",
    "    return pd.DataFrame(t_list)"
   ],
   "metadata": {
    "collapsed": false,
    "pycharm": {
     "name": "#%%\n"
    }
   }
  },
  {
   "cell_type": "markdown",
   "source": [],
   "metadata": {
    "collapsed": false,
    "pycharm": {
     "name": "#%% md\n"
    }
   }
  },
  {
   "cell_type": "code",
   "execution_count": 39,
   "outputs": [],
   "source": [
    "from tqdm import tqdm\n",
    "\n",
    "\n",
    "def get_sequence_divide_mean(m_df: pd.DataFrame, names: list):\n",
    "    \"\"\"\n",
    "    计算每个值和当前列平均值的商\n",
    "    :param m_df: 数据表\n",
    "    :param names: 名称\n",
    "    :return: 算好的表格\n",
    "    \"\"\"\n",
    "    t_df = m_df.copy()\n",
    "    for name in tqdm(names):\n",
    "        t1_df = t_df[name]\n",
    "        t_df_mean = to_float_df(t1_df.to_list()).mean()[0]\n",
    "        for i in range(len(t1_df)):\n",
    "            if type(t1_df[i]) == str:\n",
    "                t1_df[i] = float(t1_df[i].strip())\n",
    "            t1_df[i] = t1_df[i] / t_df_mean\n",
    "    return t_df[names]"
   ],
   "metadata": {
    "collapsed": false,
    "pycharm": {
     "name": "#%%\n"
    }
   }
  },
  {
   "cell_type": "code",
   "execution_count": 26,
   "outputs": [],
   "source": [
    "import os\n",
    "\n",
    "\n",
    "def get_sequence(m_df, names, csv_path):\n",
    "    \"\"\"\n",
    "    得到计算好的序列\n",
    "    :param m_df: 数据表\n",
    "    :param names: 名称\n",
    "    :param csv_path: 路径\n",
    "    :return: 处理好的序列\n",
    "    \"\"\"\n",
    "    if os.path.exists(csv_path):\n",
    "        sequence = pd.read_csv(csv_path)\n",
    "    else:\n",
    "        sequence = get_sequence_divide_mean(m_df, names)\n",
    "        sequence.to_csv(csv_path, index=False)\n",
    "    return sequence"
   ],
   "metadata": {
    "collapsed": false,
    "pycharm": {
     "name": "#%%\n"
    }
   }
  },
  {
   "cell_type": "code",
   "execution_count": 27,
   "outputs": [],
   "source": [
    "# 得到母序列均值商\n",
    "csv1_path = '../results/parent_sequence.csv'\n",
    "parent_sequence = get_sequence(era_df, ['pIC50'], csv1_path)\n",
    "# 得到子序列均值商\n",
    "csv2_path = '../results/child_sequence.csv'\n",
    "child_names = pre_threat_names[1:]\n",
    "child_sequence = get_sequence(pre_threat_df, child_names, csv2_path)"
   ],
   "metadata": {
    "collapsed": false,
    "pycharm": {
     "name": "#%%\n"
    }
   }
  },
  {
   "cell_type": "code",
   "execution_count": 35,
   "outputs": [
    {
     "data": {
      "text/plain": "1.3060669875566957"
     },
     "execution_count": 35,
     "metadata": {},
     "output_type": "execute_result"
    }
   ],
   "source": [
    "parent_sequence['pIC50'][0]"
   ],
   "metadata": {
    "collapsed": false,
    "pycharm": {
     "name": "#%%\n"
    }
   }
  },
  {
   "cell_type": "code",
   "execution_count": 49,
   "outputs": [
    {
     "ename": "KeyboardInterrupt",
     "evalue": "",
     "output_type": "error",
     "traceback": [
      "\u001B[1;31m---------------------------------------------------------------------------\u001B[0m",
      "\u001B[1;31mKeyboardInterrupt\u001B[0m                         Traceback (most recent call last)",
      "Input \u001B[1;32mIn [49]\u001B[0m, in \u001B[0;36m<cell line: 3>\u001B[1;34m()\u001B[0m\n\u001B[0;32m     12\u001B[0m             local_min \u001B[38;5;241m=\u001B[39m t\n\u001B[0;32m     13\u001B[0m         \u001B[38;5;28;01mif\u001B[39;00m t \u001B[38;5;241m>\u001B[39m local_max:\n\u001B[1;32m---> 14\u001B[0m             local_max \u001B[38;5;241m=\u001B[39m \u001B[43mt\u001B[49m\n\u001B[0;32m     15\u001B[0m a, b \u001B[38;5;241m=\u001B[39m local_min, local_max\n\u001B[0;32m     16\u001B[0m a, b\n",
      "Input \u001B[1;32mIn [49]\u001B[0m, in \u001B[0;36m<cell line: 3>\u001B[1;34m()\u001B[0m\n\u001B[0;32m     12\u001B[0m             local_min \u001B[38;5;241m=\u001B[39m t\n\u001B[0;32m     13\u001B[0m         \u001B[38;5;28;01mif\u001B[39;00m t \u001B[38;5;241m>\u001B[39m local_max:\n\u001B[1;32m---> 14\u001B[0m             local_max \u001B[38;5;241m=\u001B[39m \u001B[43mt\u001B[49m\n\u001B[0;32m     15\u001B[0m a, b \u001B[38;5;241m=\u001B[39m local_min, local_max\n\u001B[0;32m     16\u001B[0m a, b\n",
      "File \u001B[1;32m_pydevd_bundle\\pydevd_cython_win32_310_64.pyx:1179\u001B[0m, in \u001B[0;36m_pydevd_bundle.pydevd_cython_win32_310_64.SafeCallWrapper.__call__\u001B[1;34m()\u001B[0m\n",
      "File \u001B[1;32m_pydevd_bundle\\pydevd_cython_win32_310_64.pyx:620\u001B[0m, in \u001B[0;36m_pydevd_bundle.pydevd_cython_win32_310_64.PyDBFrame.trace_dispatch\u001B[1;34m()\u001B[0m\n",
      "File \u001B[1;32m_pydevd_bundle\\pydevd_cython_win32_310_64.pyx:929\u001B[0m, in \u001B[0;36m_pydevd_bundle.pydevd_cython_win32_310_64.PyDBFrame.trace_dispatch\u001B[1;34m()\u001B[0m\n",
      "File \u001B[1;32m_pydevd_bundle\\pydevd_cython_win32_310_64.pyx:920\u001B[0m, in \u001B[0;36m_pydevd_bundle.pydevd_cython_win32_310_64.PyDBFrame.trace_dispatch\u001B[1;34m()\u001B[0m\n",
      "File \u001B[1;32m_pydevd_bundle\\pydevd_cython_win32_310_64.pyx:317\u001B[0m, in \u001B[0;36m_pydevd_bundle.pydevd_cython_win32_310_64.PyDBFrame.do_wait_suspend\u001B[1;34m()\u001B[0m\n",
      "File \u001B[1;32mD:\\Develop\\JetBrain\\apps\\PyCharm-P\\ch-0\\221.5921.27\\plugins\\python\\helpers\\pydev\\pydevd.py:1155\u001B[0m, in \u001B[0;36mPyDB.do_wait_suspend\u001B[1;34m(self, thread, frame, event, arg, send_suspend_message, is_unhandled_exception)\u001B[0m\n\u001B[0;32m   1152\u001B[0m         from_this_thread\u001B[38;5;241m.\u001B[39mappend(frame_id)\n\u001B[0;32m   1154\u001B[0m \u001B[38;5;28;01mwith\u001B[39;00m \u001B[38;5;28mself\u001B[39m\u001B[38;5;241m.\u001B[39m_threads_suspended_single_notification\u001B[38;5;241m.\u001B[39mnotify_thread_suspended(thread_id, stop_reason):\n\u001B[1;32m-> 1155\u001B[0m     \u001B[38;5;28;43mself\u001B[39;49m\u001B[38;5;241;43m.\u001B[39;49m\u001B[43m_do_wait_suspend\u001B[49m\u001B[43m(\u001B[49m\u001B[43mthread\u001B[49m\u001B[43m,\u001B[49m\u001B[43m \u001B[49m\u001B[43mframe\u001B[49m\u001B[43m,\u001B[49m\u001B[43m \u001B[49m\u001B[43mevent\u001B[49m\u001B[43m,\u001B[49m\u001B[43m \u001B[49m\u001B[43marg\u001B[49m\u001B[43m,\u001B[49m\u001B[43m \u001B[49m\u001B[43msuspend_type\u001B[49m\u001B[43m,\u001B[49m\u001B[43m \u001B[49m\u001B[43mfrom_this_thread\u001B[49m\u001B[43m)\u001B[49m\n",
      "File \u001B[1;32mD:\\Develop\\JetBrain\\apps\\PyCharm-P\\ch-0\\221.5921.27\\plugins\\python\\helpers\\pydev\\pydevd.py:1170\u001B[0m, in \u001B[0;36mPyDB._do_wait_suspend\u001B[1;34m(self, thread, frame, event, arg, suspend_type, from_this_thread)\u001B[0m\n\u001B[0;32m   1167\u001B[0m             \u001B[38;5;28mself\u001B[39m\u001B[38;5;241m.\u001B[39m_call_mpl_hook()\n\u001B[0;32m   1169\u001B[0m         \u001B[38;5;28mself\u001B[39m\u001B[38;5;241m.\u001B[39mprocess_internal_commands()\n\u001B[1;32m-> 1170\u001B[0m         \u001B[43mtime\u001B[49m\u001B[38;5;241;43m.\u001B[39;49m\u001B[43msleep\u001B[49m\u001B[43m(\u001B[49m\u001B[38;5;241;43m0.01\u001B[39;49m\u001B[43m)\u001B[49m\n\u001B[0;32m   1172\u001B[0m \u001B[38;5;28mself\u001B[39m\u001B[38;5;241m.\u001B[39mcancel_async_evaluation(get_current_thread_id(thread), \u001B[38;5;28mstr\u001B[39m(\u001B[38;5;28mid\u001B[39m(frame)))\n\u001B[0;32m   1174\u001B[0m \u001B[38;5;66;03m# process any stepping instructions\u001B[39;00m\n",
      "\u001B[1;31mKeyboardInterrupt\u001B[0m: "
     ]
    }
   ],
   "source": [
    "local_min = 100\n",
    "local_max = 0\n",
    "for name in child_names:\n",
    "    # 对每一个子序列，计算对应值\n",
    "    sequence = child_sequence[name]\n",
    "    for i in range(len(sequence)):\n",
    "        # 每一行的数相减\n",
    "        t1 = sequence[i]\n",
    "        t2 = parent_sequence['pIC50'][i]\n",
    "        t = abs(t1 - t2)\n",
    "        if t < local_min:\n",
    "            local_min = t\n",
    "        if t > local_max:\n",
    "            local_max = t\n",
    "a, b = local_min, local_max\n",
    "a, b"
   ],
   "metadata": {
    "collapsed": false,
    "pycharm": {
     "name": "#%%\n"
    }
   }
  },
  {
   "cell_type": "code",
   "execution_count": 46,
   "outputs": [
    {
     "data": {
      "text/plain": "         ALogP    ALogp2       AMR      apol  naAromAtom  nAromBond     nAtom  \\\n0    -0.257620  0.024873  1.082034  1.223396    0.776860   0.741223  1.260788   \n1    -0.776462  0.225953  1.131994  1.325450    0.776860   0.741223  1.378987   \n2     0.657200  0.161872  1.200531  1.221661    1.165289   1.111834  1.221388   \n3    -0.286805  0.030828  1.145209  1.325450    0.776860   0.741223  1.378987   \n4     1.220631  0.558400  1.228499  1.259459    1.165289   1.111834  1.260788   \n...        ...       ...       ...       ...         ...        ...       ...   \n1969  1.638767  1.006495  1.524418  1.470641    1.553719   1.482446  1.438086   \n1970  1.522568  0.868821  1.437971  1.368587    1.553719   1.482446  1.319887   \n1971  1.522568  0.868821  1.437971  1.368587    1.553719   1.482446  1.319887   \n1972  1.203877  0.543176  1.077244  1.043898    1.165289   1.111834  1.004690   \n1973  1.638767  1.006495  1.524418  1.470641    1.553719   1.482446  1.438086   \n\n      nHeavyAtom        nH        nC  ...        MW    WTPT-1    WTPT-2  \\\n0       1.102714  1.456989  1.150040  ...  1.123157  1.121186  1.017490   \n1       1.173857  1.633594  1.238505  ...  1.194838  1.193685  1.017631   \n2       1.173857  1.280385  1.194273  ...  1.184436  1.190031  1.014516   \n3       1.173857  1.633594  1.238505  ...  1.194838  1.192364  1.016505   \n4       1.173857  1.368687  1.238505  ...  1.179375  1.192364  1.016505   \n...          ...       ...       ...  ...       ...       ...       ...   \n1969    1.529571  1.324536  1.503899  ...  1.529615  1.535554  1.004641   \n1970    1.458428  1.147931  1.415434  ...  1.457934  1.465485  1.005569   \n1971    1.458428  1.147931  1.415434  ...  1.457934  1.465460  1.005552   \n1972    1.102714  0.883024  1.061576  ...  1.115179  1.110794  1.008060   \n1973    1.529571  1.324536  1.503899  ...  1.529615  1.535528  1.004624   \n\n        WTPT-3    WTPT-4    WTPT-5     WPATH      WPOL     XLogP    Zagreb  \n0     0.988184  1.014120  0.706576  1.111227  1.015521  1.573647  1.101407  \n1     0.989174  1.014677  0.706580  1.297601  1.166769  1.957447  1.154487  \n2     1.150397  1.303913  0.706579  1.307196  1.123555  0.999633  1.167757  \n3     0.987988  1.014009  0.706575  1.326387  1.080342  2.028608  1.154487  \n4     0.987988  1.014009  0.706575  1.326387  1.080342  1.504846  1.154487  \n...        ...       ...       ...       ...       ...       ...       ...  \n1969  1.626838  2.512373  0.000000  2.628047  1.512478  0.851914  1.565856  \n1970  1.592250  2.450396  0.000000  2.277444  1.426051  0.635394  1.512776  \n1971  1.591875  2.449857  0.000000  2.369708  1.426051  0.635394  1.512776  \n1972  1.267333  1.869012  0.000000  0.953271  1.080342  0.263736  1.154487  \n1973  1.626458  2.511828  0.000000  2.738764  1.512478  0.851914  1.565856  \n\n[1974 rows x 277 columns]",
      "text/html": "<div>\n<style scoped>\n    .dataframe tbody tr th:only-of-type {\n        vertical-align: middle;\n    }\n\n    .dataframe tbody tr th {\n        vertical-align: top;\n    }\n\n    .dataframe thead th {\n        text-align: right;\n    }\n</style>\n<table border=\"1\" class=\"dataframe\">\n  <thead>\n    <tr style=\"text-align: right;\">\n      <th></th>\n      <th>ALogP</th>\n      <th>ALogp2</th>\n      <th>AMR</th>\n      <th>apol</th>\n      <th>naAromAtom</th>\n      <th>nAromBond</th>\n      <th>nAtom</th>\n      <th>nHeavyAtom</th>\n      <th>nH</th>\n      <th>nC</th>\n      <th>...</th>\n      <th>MW</th>\n      <th>WTPT-1</th>\n      <th>WTPT-2</th>\n      <th>WTPT-3</th>\n      <th>WTPT-4</th>\n      <th>WTPT-5</th>\n      <th>WPATH</th>\n      <th>WPOL</th>\n      <th>XLogP</th>\n      <th>Zagreb</th>\n    </tr>\n  </thead>\n  <tbody>\n    <tr>\n      <th>0</th>\n      <td>-0.257620</td>\n      <td>0.024873</td>\n      <td>1.082034</td>\n      <td>1.223396</td>\n      <td>0.776860</td>\n      <td>0.741223</td>\n      <td>1.260788</td>\n      <td>1.102714</td>\n      <td>1.456989</td>\n      <td>1.150040</td>\n      <td>...</td>\n      <td>1.123157</td>\n      <td>1.121186</td>\n      <td>1.017490</td>\n      <td>0.988184</td>\n      <td>1.014120</td>\n      <td>0.706576</td>\n      <td>1.111227</td>\n      <td>1.015521</td>\n      <td>1.573647</td>\n      <td>1.101407</td>\n    </tr>\n    <tr>\n      <th>1</th>\n      <td>-0.776462</td>\n      <td>0.225953</td>\n      <td>1.131994</td>\n      <td>1.325450</td>\n      <td>0.776860</td>\n      <td>0.741223</td>\n      <td>1.378987</td>\n      <td>1.173857</td>\n      <td>1.633594</td>\n      <td>1.238505</td>\n      <td>...</td>\n      <td>1.194838</td>\n      <td>1.193685</td>\n      <td>1.017631</td>\n      <td>0.989174</td>\n      <td>1.014677</td>\n      <td>0.706580</td>\n      <td>1.297601</td>\n      <td>1.166769</td>\n      <td>1.957447</td>\n      <td>1.154487</td>\n    </tr>\n    <tr>\n      <th>2</th>\n      <td>0.657200</td>\n      <td>0.161872</td>\n      <td>1.200531</td>\n      <td>1.221661</td>\n      <td>1.165289</td>\n      <td>1.111834</td>\n      <td>1.221388</td>\n      <td>1.173857</td>\n      <td>1.280385</td>\n      <td>1.194273</td>\n      <td>...</td>\n      <td>1.184436</td>\n      <td>1.190031</td>\n      <td>1.014516</td>\n      <td>1.150397</td>\n      <td>1.303913</td>\n      <td>0.706579</td>\n      <td>1.307196</td>\n      <td>1.123555</td>\n      <td>0.999633</td>\n      <td>1.167757</td>\n    </tr>\n    <tr>\n      <th>3</th>\n      <td>-0.286805</td>\n      <td>0.030828</td>\n      <td>1.145209</td>\n      <td>1.325450</td>\n      <td>0.776860</td>\n      <td>0.741223</td>\n      <td>1.378987</td>\n      <td>1.173857</td>\n      <td>1.633594</td>\n      <td>1.238505</td>\n      <td>...</td>\n      <td>1.194838</td>\n      <td>1.192364</td>\n      <td>1.016505</td>\n      <td>0.987988</td>\n      <td>1.014009</td>\n      <td>0.706575</td>\n      <td>1.326387</td>\n      <td>1.080342</td>\n      <td>2.028608</td>\n      <td>1.154487</td>\n    </tr>\n    <tr>\n      <th>4</th>\n      <td>1.220631</td>\n      <td>0.558400</td>\n      <td>1.228499</td>\n      <td>1.259459</td>\n      <td>1.165289</td>\n      <td>1.111834</td>\n      <td>1.260788</td>\n      <td>1.173857</td>\n      <td>1.368687</td>\n      <td>1.238505</td>\n      <td>...</td>\n      <td>1.179375</td>\n      <td>1.192364</td>\n      <td>1.016505</td>\n      <td>0.987988</td>\n      <td>1.014009</td>\n      <td>0.706575</td>\n      <td>1.326387</td>\n      <td>1.080342</td>\n      <td>1.504846</td>\n      <td>1.154487</td>\n    </tr>\n    <tr>\n      <th>...</th>\n      <td>...</td>\n      <td>...</td>\n      <td>...</td>\n      <td>...</td>\n      <td>...</td>\n      <td>...</td>\n      <td>...</td>\n      <td>...</td>\n      <td>...</td>\n      <td>...</td>\n      <td>...</td>\n      <td>...</td>\n      <td>...</td>\n      <td>...</td>\n      <td>...</td>\n      <td>...</td>\n      <td>...</td>\n      <td>...</td>\n      <td>...</td>\n      <td>...</td>\n      <td>...</td>\n    </tr>\n    <tr>\n      <th>1969</th>\n      <td>1.638767</td>\n      <td>1.006495</td>\n      <td>1.524418</td>\n      <td>1.470641</td>\n      <td>1.553719</td>\n      <td>1.482446</td>\n      <td>1.438086</td>\n      <td>1.529571</td>\n      <td>1.324536</td>\n      <td>1.503899</td>\n      <td>...</td>\n      <td>1.529615</td>\n      <td>1.535554</td>\n      <td>1.004641</td>\n      <td>1.626838</td>\n      <td>2.512373</td>\n      <td>0.000000</td>\n      <td>2.628047</td>\n      <td>1.512478</td>\n      <td>0.851914</td>\n      <td>1.565856</td>\n    </tr>\n    <tr>\n      <th>1970</th>\n      <td>1.522568</td>\n      <td>0.868821</td>\n      <td>1.437971</td>\n      <td>1.368587</td>\n      <td>1.553719</td>\n      <td>1.482446</td>\n      <td>1.319887</td>\n      <td>1.458428</td>\n      <td>1.147931</td>\n      <td>1.415434</td>\n      <td>...</td>\n      <td>1.457934</td>\n      <td>1.465485</td>\n      <td>1.005569</td>\n      <td>1.592250</td>\n      <td>2.450396</td>\n      <td>0.000000</td>\n      <td>2.277444</td>\n      <td>1.426051</td>\n      <td>0.635394</td>\n      <td>1.512776</td>\n    </tr>\n    <tr>\n      <th>1971</th>\n      <td>1.522568</td>\n      <td>0.868821</td>\n      <td>1.437971</td>\n      <td>1.368587</td>\n      <td>1.553719</td>\n      <td>1.482446</td>\n      <td>1.319887</td>\n      <td>1.458428</td>\n      <td>1.147931</td>\n      <td>1.415434</td>\n      <td>...</td>\n      <td>1.457934</td>\n      <td>1.465460</td>\n      <td>1.005552</td>\n      <td>1.591875</td>\n      <td>2.449857</td>\n      <td>0.000000</td>\n      <td>2.369708</td>\n      <td>1.426051</td>\n      <td>0.635394</td>\n      <td>1.512776</td>\n    </tr>\n    <tr>\n      <th>1972</th>\n      <td>1.203877</td>\n      <td>0.543176</td>\n      <td>1.077244</td>\n      <td>1.043898</td>\n      <td>1.165289</td>\n      <td>1.111834</td>\n      <td>1.004690</td>\n      <td>1.102714</td>\n      <td>0.883024</td>\n      <td>1.061576</td>\n      <td>...</td>\n      <td>1.115179</td>\n      <td>1.110794</td>\n      <td>1.008060</td>\n      <td>1.267333</td>\n      <td>1.869012</td>\n      <td>0.000000</td>\n      <td>0.953271</td>\n      <td>1.080342</td>\n      <td>0.263736</td>\n      <td>1.154487</td>\n    </tr>\n    <tr>\n      <th>1973</th>\n      <td>1.638767</td>\n      <td>1.006495</td>\n      <td>1.524418</td>\n      <td>1.470641</td>\n      <td>1.553719</td>\n      <td>1.482446</td>\n      <td>1.438086</td>\n      <td>1.529571</td>\n      <td>1.324536</td>\n      <td>1.503899</td>\n      <td>...</td>\n      <td>1.529615</td>\n      <td>1.535528</td>\n      <td>1.004624</td>\n      <td>1.626458</td>\n      <td>2.511828</td>\n      <td>0.000000</td>\n      <td>2.738764</td>\n      <td>1.512478</td>\n      <td>0.851914</td>\n      <td>1.565856</td>\n    </tr>\n  </tbody>\n</table>\n<p>1974 rows × 277 columns</p>\n</div>"
     },
     "execution_count": 46,
     "metadata": {},
     "output_type": "execute_result"
    }
   ],
   "source": [
    "child_sequence"
   ],
   "metadata": {
    "collapsed": false,
    "pycharm": {
     "name": "#%%\n"
    }
   }
  },
  {
   "cell_type": "code",
   "execution_count": 47,
   "outputs": [
    {
     "data": {
      "text/plain": "         pIC50\n0     1.306067\n1     1.233643\n2     1.291947\n3     1.276763\n4     1.234554\n...        ...\n1969  0.931040\n1970  0.888375\n1971  1.172302\n1972  1.197355\n1973  1.149224\n\n[1974 rows x 1 columns]",
      "text/html": "<div>\n<style scoped>\n    .dataframe tbody tr th:only-of-type {\n        vertical-align: middle;\n    }\n\n    .dataframe tbody tr th {\n        vertical-align: top;\n    }\n\n    .dataframe thead th {\n        text-align: right;\n    }\n</style>\n<table border=\"1\" class=\"dataframe\">\n  <thead>\n    <tr style=\"text-align: right;\">\n      <th></th>\n      <th>pIC50</th>\n    </tr>\n  </thead>\n  <tbody>\n    <tr>\n      <th>0</th>\n      <td>1.306067</td>\n    </tr>\n    <tr>\n      <th>1</th>\n      <td>1.233643</td>\n    </tr>\n    <tr>\n      <th>2</th>\n      <td>1.291947</td>\n    </tr>\n    <tr>\n      <th>3</th>\n      <td>1.276763</td>\n    </tr>\n    <tr>\n      <th>4</th>\n      <td>1.234554</td>\n    </tr>\n    <tr>\n      <th>...</th>\n      <td>...</td>\n    </tr>\n    <tr>\n      <th>1969</th>\n      <td>0.931040</td>\n    </tr>\n    <tr>\n      <th>1970</th>\n      <td>0.888375</td>\n    </tr>\n    <tr>\n      <th>1971</th>\n      <td>1.172302</td>\n    </tr>\n    <tr>\n      <th>1972</th>\n      <td>1.197355</td>\n    </tr>\n    <tr>\n      <th>1973</th>\n      <td>1.149224</td>\n    </tr>\n  </tbody>\n</table>\n<p>1974 rows × 1 columns</p>\n</div>"
     },
     "execution_count": 47,
     "metadata": {},
     "output_type": "execute_result"
    }
   ],
   "source": [
    "parent_sequence"
   ],
   "metadata": {
    "collapsed": false,
    "pycharm": {
     "name": "#%%\n"
    }
   }
  },
  {
   "cell_type": "code",
   "execution_count": 38,
   "outputs": [
    {
     "name": "stderr",
     "output_type": "stream",
     "text": [
      "100%|██████████| 277/277 [02:18<00:00,  2.00it/s]\n"
     ]
    },
    {
     "data": {
      "text/plain": "         ALogP    ALogp2       AMR      apol  naAromAtom  nAromBond     nAtom  \\\n0     0.998565  0.998824  0.999794  0.999924    0.999514   0.999481  0.999958   \n1     0.998156  0.999075  0.999907  0.999916    0.999580   0.999548  0.999866   \n2     0.999417  0.998962  0.999916  0.999935    0.999884   0.999834  0.999935   \n3     0.998565  0.998856  0.999879  0.999955    0.999541   0.999508  0.999906   \n4     0.999987  0.999379  0.999994  0.999977    0.999936   0.999887  0.999976   \n...        ...       ...       ...       ...         ...        ...       ...   \n1969  0.999350  0.999931  0.999455  0.999504    0.999428   0.999493  0.999534   \n1970  0.999417  0.999982  0.999495  0.999559    0.999389   0.999454  0.999604   \n1971  0.999678  0.999721  0.999756  0.999820    0.999650   0.999715  0.999864   \n1972  0.999994  0.999399  0.999890  0.999859    0.999971   0.999921  0.999823   \n1973  0.999550  0.999869  0.999655  0.999705    0.999628   0.999694  0.999735   \n\n      nHeavyAtom        nH        nC  ...        MW    WTPT-1    WTPT-2  \\\n0       0.999813  0.999861  0.999857  ...  0.999832  0.999830  0.999735   \n1       0.999945  0.999633  0.999996  ...  0.999964  0.999963  0.999802   \n2       0.999891  0.999989  0.999910  ...  0.999901  0.999906  0.999745   \n3       0.999905  0.999672  0.999965  ...  0.999925  0.999922  0.999761   \n4       0.999944  0.999877  0.999996  ...  0.999949  0.999961  0.999800   \n...          ...       ...       ...  ...       ...       ...       ...   \n1969    0.999450  0.999638  0.999474  ...  0.999450  0.999445  0.999932   \n1970    0.999476  0.999761  0.999516  ...  0.999477  0.999470  0.999892   \n1971    0.999737  0.999978  0.999777  ...  0.999738  0.999731  0.999847   \n1972    0.999913  0.999711  0.999875  ...  0.999924  0.999920  0.999826   \n1973    0.999651  0.999839  0.999674  ...  0.999651  0.999645  0.999867   \n\n        WTPT-3    WTPT-4    WTPT-5     WPATH      WPOL     XLogP    Zagreb  \n0     0.999708  0.999732  0.999449  0.999821  0.999733  0.999754  0.999812  \n1     0.999775  0.999799  0.999516  0.999941  0.999939  0.999335  0.999927  \n2     0.999870  0.999989  0.999462  0.999986  0.999845  0.999731  0.999886  \n3     0.999735  0.999759  0.999476  0.999954  0.999820  0.999309  0.999888  \n4     0.999773  0.999797  0.999515  0.999916  0.999858  0.999752  0.999926  \n...        ...       ...       ...       ...       ...       ...       ...  \n1969  0.999361  0.998549  0.999145  0.998443  0.999466  0.999927  0.999417  \n1970  0.999353  0.998566  0.999184  0.998725  0.999506  0.999768  0.999426  \n1971  0.999615  0.998827  0.998924  0.998901  0.999767  0.999507  0.999687  \n1972  0.999936  0.999383  0.998901  0.999776  0.999892  0.999143  0.999961  \n1973  0.999562  0.998749  0.998945  0.998541  0.999666  0.999727  0.999617  \n\n[1974 rows x 277 columns]",
      "text/html": "<div>\n<style scoped>\n    .dataframe tbody tr th:only-of-type {\n        vertical-align: middle;\n    }\n\n    .dataframe tbody tr th {\n        vertical-align: top;\n    }\n\n    .dataframe thead th {\n        text-align: right;\n    }\n</style>\n<table border=\"1\" class=\"dataframe\">\n  <thead>\n    <tr style=\"text-align: right;\">\n      <th></th>\n      <th>ALogP</th>\n      <th>ALogp2</th>\n      <th>AMR</th>\n      <th>apol</th>\n      <th>naAromAtom</th>\n      <th>nAromBond</th>\n      <th>nAtom</th>\n      <th>nHeavyAtom</th>\n      <th>nH</th>\n      <th>nC</th>\n      <th>...</th>\n      <th>MW</th>\n      <th>WTPT-1</th>\n      <th>WTPT-2</th>\n      <th>WTPT-3</th>\n      <th>WTPT-4</th>\n      <th>WTPT-5</th>\n      <th>WPATH</th>\n      <th>WPOL</th>\n      <th>XLogP</th>\n      <th>Zagreb</th>\n    </tr>\n  </thead>\n  <tbody>\n    <tr>\n      <th>0</th>\n      <td>0.998565</td>\n      <td>0.998824</td>\n      <td>0.999794</td>\n      <td>0.999924</td>\n      <td>0.999514</td>\n      <td>0.999481</td>\n      <td>0.999958</td>\n      <td>0.999813</td>\n      <td>0.999861</td>\n      <td>0.999857</td>\n      <td>...</td>\n      <td>0.999832</td>\n      <td>0.999830</td>\n      <td>0.999735</td>\n      <td>0.999708</td>\n      <td>0.999732</td>\n      <td>0.999449</td>\n      <td>0.999821</td>\n      <td>0.999733</td>\n      <td>0.999754</td>\n      <td>0.999812</td>\n    </tr>\n    <tr>\n      <th>1</th>\n      <td>0.998156</td>\n      <td>0.999075</td>\n      <td>0.999907</td>\n      <td>0.999916</td>\n      <td>0.999580</td>\n      <td>0.999548</td>\n      <td>0.999866</td>\n      <td>0.999945</td>\n      <td>0.999633</td>\n      <td>0.999996</td>\n      <td>...</td>\n      <td>0.999964</td>\n      <td>0.999963</td>\n      <td>0.999802</td>\n      <td>0.999775</td>\n      <td>0.999799</td>\n      <td>0.999516</td>\n      <td>0.999941</td>\n      <td>0.999939</td>\n      <td>0.999335</td>\n      <td>0.999927</td>\n    </tr>\n    <tr>\n      <th>2</th>\n      <td>0.999417</td>\n      <td>0.998962</td>\n      <td>0.999916</td>\n      <td>0.999935</td>\n      <td>0.999884</td>\n      <td>0.999834</td>\n      <td>0.999935</td>\n      <td>0.999891</td>\n      <td>0.999989</td>\n      <td>0.999910</td>\n      <td>...</td>\n      <td>0.999901</td>\n      <td>0.999906</td>\n      <td>0.999745</td>\n      <td>0.999870</td>\n      <td>0.999989</td>\n      <td>0.999462</td>\n      <td>0.999986</td>\n      <td>0.999845</td>\n      <td>0.999731</td>\n      <td>0.999886</td>\n    </tr>\n    <tr>\n      <th>3</th>\n      <td>0.998565</td>\n      <td>0.998856</td>\n      <td>0.999879</td>\n      <td>0.999955</td>\n      <td>0.999541</td>\n      <td>0.999508</td>\n      <td>0.999906</td>\n      <td>0.999905</td>\n      <td>0.999672</td>\n      <td>0.999965</td>\n      <td>...</td>\n      <td>0.999925</td>\n      <td>0.999922</td>\n      <td>0.999761</td>\n      <td>0.999735</td>\n      <td>0.999759</td>\n      <td>0.999476</td>\n      <td>0.999954</td>\n      <td>0.999820</td>\n      <td>0.999309</td>\n      <td>0.999888</td>\n    </tr>\n    <tr>\n      <th>4</th>\n      <td>0.999987</td>\n      <td>0.999379</td>\n      <td>0.999994</td>\n      <td>0.999977</td>\n      <td>0.999936</td>\n      <td>0.999887</td>\n      <td>0.999976</td>\n      <td>0.999944</td>\n      <td>0.999877</td>\n      <td>0.999996</td>\n      <td>...</td>\n      <td>0.999949</td>\n      <td>0.999961</td>\n      <td>0.999800</td>\n      <td>0.999773</td>\n      <td>0.999797</td>\n      <td>0.999515</td>\n      <td>0.999916</td>\n      <td>0.999858</td>\n      <td>0.999752</td>\n      <td>0.999926</td>\n    </tr>\n    <tr>\n      <th>...</th>\n      <td>...</td>\n      <td>...</td>\n      <td>...</td>\n      <td>...</td>\n      <td>...</td>\n      <td>...</td>\n      <td>...</td>\n      <td>...</td>\n      <td>...</td>\n      <td>...</td>\n      <td>...</td>\n      <td>...</td>\n      <td>...</td>\n      <td>...</td>\n      <td>...</td>\n      <td>...</td>\n      <td>...</td>\n      <td>...</td>\n      <td>...</td>\n      <td>...</td>\n      <td>...</td>\n    </tr>\n    <tr>\n      <th>1969</th>\n      <td>0.999350</td>\n      <td>0.999931</td>\n      <td>0.999455</td>\n      <td>0.999504</td>\n      <td>0.999428</td>\n      <td>0.999493</td>\n      <td>0.999534</td>\n      <td>0.999450</td>\n      <td>0.999638</td>\n      <td>0.999474</td>\n      <td>...</td>\n      <td>0.999450</td>\n      <td>0.999445</td>\n      <td>0.999932</td>\n      <td>0.999361</td>\n      <td>0.998549</td>\n      <td>0.999145</td>\n      <td>0.998443</td>\n      <td>0.999466</td>\n      <td>0.999927</td>\n      <td>0.999417</td>\n    </tr>\n    <tr>\n      <th>1970</th>\n      <td>0.999417</td>\n      <td>0.999982</td>\n      <td>0.999495</td>\n      <td>0.999559</td>\n      <td>0.999389</td>\n      <td>0.999454</td>\n      <td>0.999604</td>\n      <td>0.999476</td>\n      <td>0.999761</td>\n      <td>0.999516</td>\n      <td>...</td>\n      <td>0.999477</td>\n      <td>0.999470</td>\n      <td>0.999892</td>\n      <td>0.999353</td>\n      <td>0.998566</td>\n      <td>0.999184</td>\n      <td>0.998725</td>\n      <td>0.999506</td>\n      <td>0.999768</td>\n      <td>0.999426</td>\n    </tr>\n    <tr>\n      <th>1971</th>\n      <td>0.999678</td>\n      <td>0.999721</td>\n      <td>0.999756</td>\n      <td>0.999820</td>\n      <td>0.999650</td>\n      <td>0.999715</td>\n      <td>0.999864</td>\n      <td>0.999737</td>\n      <td>0.999978</td>\n      <td>0.999777</td>\n      <td>...</td>\n      <td>0.999738</td>\n      <td>0.999731</td>\n      <td>0.999847</td>\n      <td>0.999615</td>\n      <td>0.998827</td>\n      <td>0.998924</td>\n      <td>0.998901</td>\n      <td>0.999767</td>\n      <td>0.999507</td>\n      <td>0.999687</td>\n    </tr>\n    <tr>\n      <th>1972</th>\n      <td>0.999994</td>\n      <td>0.999399</td>\n      <td>0.999890</td>\n      <td>0.999859</td>\n      <td>0.999971</td>\n      <td>0.999921</td>\n      <td>0.999823</td>\n      <td>0.999913</td>\n      <td>0.999711</td>\n      <td>0.999875</td>\n      <td>...</td>\n      <td>0.999924</td>\n      <td>0.999920</td>\n      <td>0.999826</td>\n      <td>0.999936</td>\n      <td>0.999383</td>\n      <td>0.998901</td>\n      <td>0.999776</td>\n      <td>0.999892</td>\n      <td>0.999143</td>\n      <td>0.999961</td>\n    </tr>\n    <tr>\n      <th>1973</th>\n      <td>0.999550</td>\n      <td>0.999869</td>\n      <td>0.999655</td>\n      <td>0.999705</td>\n      <td>0.999628</td>\n      <td>0.999694</td>\n      <td>0.999735</td>\n      <td>0.999651</td>\n      <td>0.999839</td>\n      <td>0.999674</td>\n      <td>...</td>\n      <td>0.999651</td>\n      <td>0.999645</td>\n      <td>0.999867</td>\n      <td>0.999562</td>\n      <td>0.998749</td>\n      <td>0.998945</td>\n      <td>0.998541</td>\n      <td>0.999666</td>\n      <td>0.999727</td>\n      <td>0.999617</td>\n    </tr>\n  </tbody>\n</table>\n<p>1974 rows × 277 columns</p>\n</div>"
     },
     "execution_count": 38,
     "metadata": {},
     "output_type": "execute_result"
    }
   ],
   "source": [
    "from tqdm import *\n",
    "\n",
    "copy_child = child_sequence.copy()\n",
    "p = 0.5\n",
    "for name in tqdm(child_names):\n",
    "    # 对每一个子序列，计算对应值\n",
    "    sequence = copy_child[name]\n",
    "    for i in range(len(sequence)):\n",
    "        # 计算关联度\n",
    "        sequence[i] = (a + p * b) / (abs(sequence[i] - parent_sequence['pIC50'][i]) + p * b)\n",
    "copy_child"
   ],
   "metadata": {
    "collapsed": false,
    "pycharm": {
     "name": "#%%\n"
    }
   }
  },
  {
   "cell_type": "code",
   "execution_count": 40,
   "outputs": [],
   "source": [
    "def get_sequence_mean(m_df: pd.DataFrame):\n",
    "    \"\"\"\n",
    "    计算只有一列的DataFrame均值\n",
    "    :param m_df:\n",
    "    :return:\n",
    "    \"\"\"\n",
    "    return m_df.sum() / len(m_df)"
   ],
   "metadata": {
    "collapsed": false,
    "pycharm": {
     "name": "#%%\n"
    }
   }
  },
  {
   "cell_type": "code",
   "execution_count": 45,
   "outputs": [
    {
     "name": "stderr",
     "output_type": "stream",
     "text": [
      "100%|██████████| 277/277 [00:00<00:00, 33450.10it/s]\n"
     ]
    },
    {
     "ename": "KeyError",
     "evalue": "0",
     "output_type": "error",
     "traceback": [
      "\u001B[1;31m---------------------------------------------------------------------------\u001B[0m",
      "\u001B[1;31mKeyError\u001B[0m                                  Traceback (most recent call last)",
      "Input \u001B[1;32mIn [45]\u001B[0m, in \u001B[0;36m<cell line: 5>\u001B[1;34m()\u001B[0m\n\u001B[0;32m      3\u001B[0m     t \u001B[38;5;241m=\u001B[39m get_sequence_mean(child_sequence[name])\n\u001B[0;32m      4\u001B[0m     sort_list\u001B[38;5;241m.\u001B[39mappend({name: t})\n\u001B[1;32m----> 5\u001B[0m sort_list \u001B[38;5;241m=\u001B[39m \u001B[38;5;28;43msorted\u001B[39;49m\u001B[43m(\u001B[49m\u001B[43msort_list\u001B[49m\u001B[43m,\u001B[49m\u001B[43m \u001B[49m\u001B[43mkey\u001B[49m\u001B[38;5;241;43m=\u001B[39;49m\u001B[38;5;28;43;01mlambda\u001B[39;49;00m\u001B[43m \u001B[49m\u001B[43mx\u001B[49m\u001B[43m:\u001B[49m\u001B[43m \u001B[49m\u001B[43mx\u001B[49m\u001B[43m[\u001B[49m\u001B[38;5;241;43m0\u001B[39;49m\u001B[43m]\u001B[49m\u001B[43m)\u001B[49m\n\u001B[0;32m      6\u001B[0m sort_list\n",
      "Input \u001B[1;32mIn [45]\u001B[0m, in \u001B[0;36m<lambda>\u001B[1;34m(x)\u001B[0m\n\u001B[0;32m      3\u001B[0m     t \u001B[38;5;241m=\u001B[39m get_sequence_mean(child_sequence[name])\n\u001B[0;32m      4\u001B[0m     sort_list\u001B[38;5;241m.\u001B[39mappend({name: t})\n\u001B[1;32m----> 5\u001B[0m sort_list \u001B[38;5;241m=\u001B[39m \u001B[38;5;28msorted\u001B[39m(sort_list, key\u001B[38;5;241m=\u001B[39m\u001B[38;5;28;01mlambda\u001B[39;00m x: \u001B[43mx\u001B[49m\u001B[43m[\u001B[49m\u001B[38;5;241;43m0\u001B[39;49m\u001B[43m]\u001B[49m)\n\u001B[0;32m      6\u001B[0m sort_list\n",
      "\u001B[1;31mKeyError\u001B[0m: 0"
     ]
    }
   ],
   "source": [
    "sort_list = []\n",
    "for name in tqdm(child_names):\n",
    "    t = get_sequence_mean(child_sequence[name])\n",
    "    sort_list.append({name: t})\n",
    "sort_list = sorted(sort_list, key=lambda x: x[0])\n",
    "sort_list"
   ],
   "metadata": {
    "collapsed": false,
    "pycharm": {
     "name": "#%%\n"
    }
   }
  },
  {
   "cell_type": "code",
   "execution_count": null,
   "outputs": [],
   "source": [],
   "metadata": {
    "collapsed": false,
    "pycharm": {
     "name": "#%%\n"
    }
   }
  }
 ],
 "metadata": {
  "kernelspec": {
   "display_name": "Python 3",
   "language": "python",
   "name": "python3"
  },
  "language_info": {
   "codemirror_mode": {
    "name": "ipython",
    "version": 2
   },
   "file_extension": ".py",
   "mimetype": "text/x-python",
   "name": "python",
   "nbconvert_exporter": "python",
   "pygments_lexer": "ipython2",
   "version": "2.7.6"
  }
 },
 "nbformat": 4,
 "nbformat_minor": 0
}