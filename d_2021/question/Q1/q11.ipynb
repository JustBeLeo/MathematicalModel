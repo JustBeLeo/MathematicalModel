{
 "cells": [
  {
   "cell_type": "code",
   "execution_count": 1,
   "metadata": {
    "collapsed": false,
    "pycharm": {
     "name": "#%%\n"
    }
   },
   "outputs": [],
   "source": [
    "import os\n",
    "\n",
    "from d_2021.config.path import *\n",
    "from d_2021.utils.import_utils import *\n",
    "from d_2021.utils.math_utils import *\n",
    "from d_2021.utils.common_utils import *\n",
    "\n",
    "from tqdm import *\n",
    "import pandas as pd"
   ]
  },
  {
   "cell_type": "markdown",
   "source": [
    "# 第一步：数据清洗"
   ],
   "metadata": {
    "collapsed": false,
    "pycharm": {
     "name": "#%% md\n"
    }
   }
  },
  {
   "cell_type": "code",
   "execution_count": 30,
   "metadata": {
    "collapsed": false,
    "pycharm": {
     "name": "#%%\n"
    }
   },
   "outputs": [],
   "source": [
    "def data_pre_threat():\n",
    "    if os.path.exists(md_df_path):\n",
    "        md_df_3 = pd.read_csv(md_df_path)\n",
    "        md_names = md_df_3.columns.tolist()\n",
    "    else:\n",
    "        md_names, md_df = get_objs_in_csv(\"../dataset/train/Molecular_Descriptor.csv\")\n",
    "        print('总特征数:', len(md_names) - 1)\n",
    "        error_names = []\n",
    "        # 使用箱线法去除异常值出现大于100次的列\n",
    "        for md_name in md_names[1:]:\n",
    "            row = md_df[md_name].tolist()\n",
    "            # row = str_list_2_int(row)\n",
    "            min_num, Q1, Q2, Q3, max_num = get_box_plot(row, md_name, False)\n",
    "            # 计算异常值数量\n",
    "            error_count = 0\n",
    "            for i in range(len(row)):\n",
    "                cell = md_df[md_name][i]\n",
    "                if cell < min_num:\n",
    "                    error_count += 1\n",
    "                    md_df.loc[i, md_name] = min_num\n",
    "                if cell > max_num:\n",
    "                    error_count += 1\n",
    "                    md_df.loc[i, md_name] = max_num\n",
    "            if error_count > 100:\n",
    "                error_names.append(md_name)\n",
    "        print('异常值数量:', len(error_names))\n",
    "        md_df_2 = remove_names(md_df, md_names, error_names)\n",
    "        # 含0大于0.9的列\n",
    "        zero_names = []\n",
    "        # 计算列内含0大于90%的列\n",
    "        for md_name in md_names[1:]:\n",
    "            row = md_df_2[md_name]\n",
    "            p = count_zero(row)\n",
    "            if p > 0.9:\n",
    "                zero_names.append(md_name)\n",
    "        print('0值大于90%数量:', len(zero_names))\n",
    "        md_df_3 = remove_names(md_df_2, md_names, zero_names)\n",
    "        print('筛选后总数', len(md_names) - 1)\n",
    "        md_df_3.to_csv(md_df_path, index=False)\n",
    "    return md_df_3, md_names"
   ]
  },
  {
   "cell_type": "code",
   "execution_count": 31,
   "metadata": {
    "collapsed": false,
    "pycharm": {
     "name": "#%%\n"
    }
   },
   "outputs": [
    {
     "name": "stdout",
     "output_type": "stream",
     "text": [
      "总特征数: 729\n",
      "异常值数量: 155\n",
      "0值大于90%数量: 327\n",
      "筛选后总数 247\n"
     ]
    },
    {
     "data": {
      "text/plain": "                                                 SMILES   ALogP       AMR  \\\n0     Oc1ccc2O[C@H]([C@H](Sc2c1)C3CCCC3)c4ccc(OCCN5C... -0.2860  126.1188   \n1     Oc1ccc2O[C@H]([C@H](Sc2c1)C3CCCCCC3)c4ccc(OCCN... -0.8620  131.9420   \n2     Oc1ccc(cc1)[C@H]2Sc3cc(O)ccc3O[C@H]2c4ccc(OCCN...  0.7296  139.9304   \n3     Oc1ccc2O[C@H]([C@@H](CC3CCCCC3)Sc2c1)c4ccc(OCC... -0.3184  133.4822   \n4     Oc1ccc2O[C@H]([C@@H](Cc3ccccc3)Sc2c1)c4ccc(OCC...  1.3551  143.1903   \n...                                                 ...     ...       ...   \n1969  COc1cc(OC)cc(\\C=C\\c2cccc(OS(=O)(=O)C3CC4OC3C(=...  1.8193  177.6817   \n1970  Oc1ccc(cc1)C2=C(C3OC2CC3S(=O)(=O)Oc4cccc(\\C=C\\...  1.6903  167.6057   \n1971  Oc1ccc(cc1)C2=C(C3OC2CC3S(=O)(=O)Oc4ccc(\\C=C\\c...  1.6903  167.6057   \n1972  Oc1ccc(cc1)C2=C([C@H]3O[C@H]2C[C@@H]3S(=O)(=O)...  1.3365  125.5605   \n1973  COc1cc(OC)cc(\\C=C\\c2ccc(OS(=O)(=O)[C@H]3C[C@H]...  1.8193  177.6817   \n\n           apol  naAromAtom  nAromBond  nAtom  nHeavyAtom    nH    nC  ...  \\\n0     74.170169        12.0       12.0   64.0        31.0  33.0  26.0  ...   \n1     80.357341        12.0       12.0   70.0        33.0  37.0  28.0  ...   \n2     74.064997        18.0       18.0   62.0        33.0  29.0  27.0  ...   \n3     80.357341        12.0       12.0   70.0        33.0  37.0  28.0  ...   \n4     76.356583        18.0       18.0   64.0        33.0  31.0  28.0  ...   \n...         ...         ...        ...    ...         ...   ...   ...  ...   \n1969  89.159790        24.0       24.0   73.0        43.0  30.0  34.0  ...   \n1970  82.972618        24.0       24.0   67.0        41.0  26.0  32.0  ...   \n1971  82.972618        24.0       24.0   67.0        41.0  26.0  32.0  ...   \n1972  63.287860        18.0       18.0   51.0        31.0  20.0  24.0  ...   \n1973  89.159790        24.0       24.0   73.0        43.0  30.0  34.0  ...   \n\n              MW     WTPT-1    WTPT-2     WTPT-3     WTPT-4    WTPT-5   WPATH  \\\n0     439.218115  64.771680  2.089409  15.471445   8.858910  3.406628  3011.0   \n1     467.249415  68.960024  2.089698  15.486947   8.863774  3.406648  3516.0   \n2     463.181729  68.748923  2.083301  18.011114  11.390412  3.406644  3542.0   \n3     467.249415  68.883696  2.087385  15.468365   8.857943  3.406624  3594.0   \n4     461.202465  68.883696  2.087385  15.468365   8.857943  3.406624  3594.0   \n...          ...        ...       ...        ...        ...       ...     ...   \n1969  598.166139  88.709996  2.063023  25.470481  20.590936  0.000000  7121.0   \n1970  570.134839  84.662088  2.064929  24.928962  20.590936  0.000000  6171.0   \n1971  570.134839  84.660642  2.064894  24.923083  20.590936  0.000000  6421.0   \n1972  436.098059  64.171346  2.070043  19.841924  16.326873  0.000000  2583.0   \n1973  598.166139  88.708522  2.062989  25.464529  20.590936  0.000000  7421.0   \n\n      WPOL  XLogP  Zagreb  \n0     47.0  4.666   166.0  \n1     54.0  5.804   174.0  \n2     52.0  2.964   176.0  \n3     50.0  6.015   174.0  \n4     50.0  4.462   174.0  \n...    ...    ...     ...  \n1969  70.0  2.526   236.0  \n1970  66.0  1.884   228.0  \n1971  66.0  1.884   228.0  \n1972  50.0  0.782   174.0  \n1973  70.0  2.526   236.0  \n\n[1974 rows x 248 columns]",
      "text/html": "<div>\n<style scoped>\n    .dataframe tbody tr th:only-of-type {\n        vertical-align: middle;\n    }\n\n    .dataframe tbody tr th {\n        vertical-align: top;\n    }\n\n    .dataframe thead th {\n        text-align: right;\n    }\n</style>\n<table border=\"1\" class=\"dataframe\">\n  <thead>\n    <tr style=\"text-align: right;\">\n      <th></th>\n      <th>SMILES</th>\n      <th>ALogP</th>\n      <th>AMR</th>\n      <th>apol</th>\n      <th>naAromAtom</th>\n      <th>nAromBond</th>\n      <th>nAtom</th>\n      <th>nHeavyAtom</th>\n      <th>nH</th>\n      <th>nC</th>\n      <th>...</th>\n      <th>MW</th>\n      <th>WTPT-1</th>\n      <th>WTPT-2</th>\n      <th>WTPT-3</th>\n      <th>WTPT-4</th>\n      <th>WTPT-5</th>\n      <th>WPATH</th>\n      <th>WPOL</th>\n      <th>XLogP</th>\n      <th>Zagreb</th>\n    </tr>\n  </thead>\n  <tbody>\n    <tr>\n      <th>0</th>\n      <td>Oc1ccc2O[C@H]([C@H](Sc2c1)C3CCCC3)c4ccc(OCCN5C...</td>\n      <td>-0.2860</td>\n      <td>126.1188</td>\n      <td>74.170169</td>\n      <td>12.0</td>\n      <td>12.0</td>\n      <td>64.0</td>\n      <td>31.0</td>\n      <td>33.0</td>\n      <td>26.0</td>\n      <td>...</td>\n      <td>439.218115</td>\n      <td>64.771680</td>\n      <td>2.089409</td>\n      <td>15.471445</td>\n      <td>8.858910</td>\n      <td>3.406628</td>\n      <td>3011.0</td>\n      <td>47.0</td>\n      <td>4.666</td>\n      <td>166.0</td>\n    </tr>\n    <tr>\n      <th>1</th>\n      <td>Oc1ccc2O[C@H]([C@H](Sc2c1)C3CCCCCC3)c4ccc(OCCN...</td>\n      <td>-0.8620</td>\n      <td>131.9420</td>\n      <td>80.357341</td>\n      <td>12.0</td>\n      <td>12.0</td>\n      <td>70.0</td>\n      <td>33.0</td>\n      <td>37.0</td>\n      <td>28.0</td>\n      <td>...</td>\n      <td>467.249415</td>\n      <td>68.960024</td>\n      <td>2.089698</td>\n      <td>15.486947</td>\n      <td>8.863774</td>\n      <td>3.406648</td>\n      <td>3516.0</td>\n      <td>54.0</td>\n      <td>5.804</td>\n      <td>174.0</td>\n    </tr>\n    <tr>\n      <th>2</th>\n      <td>Oc1ccc(cc1)[C@H]2Sc3cc(O)ccc3O[C@H]2c4ccc(OCCN...</td>\n      <td>0.7296</td>\n      <td>139.9304</td>\n      <td>74.064997</td>\n      <td>18.0</td>\n      <td>18.0</td>\n      <td>62.0</td>\n      <td>33.0</td>\n      <td>29.0</td>\n      <td>27.0</td>\n      <td>...</td>\n      <td>463.181729</td>\n      <td>68.748923</td>\n      <td>2.083301</td>\n      <td>18.011114</td>\n      <td>11.390412</td>\n      <td>3.406644</td>\n      <td>3542.0</td>\n      <td>52.0</td>\n      <td>2.964</td>\n      <td>176.0</td>\n    </tr>\n    <tr>\n      <th>3</th>\n      <td>Oc1ccc2O[C@H]([C@@H](CC3CCCCC3)Sc2c1)c4ccc(OCC...</td>\n      <td>-0.3184</td>\n      <td>133.4822</td>\n      <td>80.357341</td>\n      <td>12.0</td>\n      <td>12.0</td>\n      <td>70.0</td>\n      <td>33.0</td>\n      <td>37.0</td>\n      <td>28.0</td>\n      <td>...</td>\n      <td>467.249415</td>\n      <td>68.883696</td>\n      <td>2.087385</td>\n      <td>15.468365</td>\n      <td>8.857943</td>\n      <td>3.406624</td>\n      <td>3594.0</td>\n      <td>50.0</td>\n      <td>6.015</td>\n      <td>174.0</td>\n    </tr>\n    <tr>\n      <th>4</th>\n      <td>Oc1ccc2O[C@H]([C@@H](Cc3ccccc3)Sc2c1)c4ccc(OCC...</td>\n      <td>1.3551</td>\n      <td>143.1903</td>\n      <td>76.356583</td>\n      <td>18.0</td>\n      <td>18.0</td>\n      <td>64.0</td>\n      <td>33.0</td>\n      <td>31.0</td>\n      <td>28.0</td>\n      <td>...</td>\n      <td>461.202465</td>\n      <td>68.883696</td>\n      <td>2.087385</td>\n      <td>15.468365</td>\n      <td>8.857943</td>\n      <td>3.406624</td>\n      <td>3594.0</td>\n      <td>50.0</td>\n      <td>4.462</td>\n      <td>174.0</td>\n    </tr>\n    <tr>\n      <th>...</th>\n      <td>...</td>\n      <td>...</td>\n      <td>...</td>\n      <td>...</td>\n      <td>...</td>\n      <td>...</td>\n      <td>...</td>\n      <td>...</td>\n      <td>...</td>\n      <td>...</td>\n      <td>...</td>\n      <td>...</td>\n      <td>...</td>\n      <td>...</td>\n      <td>...</td>\n      <td>...</td>\n      <td>...</td>\n      <td>...</td>\n      <td>...</td>\n      <td>...</td>\n      <td>...</td>\n    </tr>\n    <tr>\n      <th>1969</th>\n      <td>COc1cc(OC)cc(\\C=C\\c2cccc(OS(=O)(=O)C3CC4OC3C(=...</td>\n      <td>1.8193</td>\n      <td>177.6817</td>\n      <td>89.159790</td>\n      <td>24.0</td>\n      <td>24.0</td>\n      <td>73.0</td>\n      <td>43.0</td>\n      <td>30.0</td>\n      <td>34.0</td>\n      <td>...</td>\n      <td>598.166139</td>\n      <td>88.709996</td>\n      <td>2.063023</td>\n      <td>25.470481</td>\n      <td>20.590936</td>\n      <td>0.000000</td>\n      <td>7121.0</td>\n      <td>70.0</td>\n      <td>2.526</td>\n      <td>236.0</td>\n    </tr>\n    <tr>\n      <th>1970</th>\n      <td>Oc1ccc(cc1)C2=C(C3OC2CC3S(=O)(=O)Oc4cccc(\\C=C\\...</td>\n      <td>1.6903</td>\n      <td>167.6057</td>\n      <td>82.972618</td>\n      <td>24.0</td>\n      <td>24.0</td>\n      <td>67.0</td>\n      <td>41.0</td>\n      <td>26.0</td>\n      <td>32.0</td>\n      <td>...</td>\n      <td>570.134839</td>\n      <td>84.662088</td>\n      <td>2.064929</td>\n      <td>24.928962</td>\n      <td>20.590936</td>\n      <td>0.000000</td>\n      <td>6171.0</td>\n      <td>66.0</td>\n      <td>1.884</td>\n      <td>228.0</td>\n    </tr>\n    <tr>\n      <th>1971</th>\n      <td>Oc1ccc(cc1)C2=C(C3OC2CC3S(=O)(=O)Oc4ccc(\\C=C\\c...</td>\n      <td>1.6903</td>\n      <td>167.6057</td>\n      <td>82.972618</td>\n      <td>24.0</td>\n      <td>24.0</td>\n      <td>67.0</td>\n      <td>41.0</td>\n      <td>26.0</td>\n      <td>32.0</td>\n      <td>...</td>\n      <td>570.134839</td>\n      <td>84.660642</td>\n      <td>2.064894</td>\n      <td>24.923083</td>\n      <td>20.590936</td>\n      <td>0.000000</td>\n      <td>6421.0</td>\n      <td>66.0</td>\n      <td>1.884</td>\n      <td>228.0</td>\n    </tr>\n    <tr>\n      <th>1972</th>\n      <td>Oc1ccc(cc1)C2=C([C@H]3O[C@H]2C[C@@H]3S(=O)(=O)...</td>\n      <td>1.3365</td>\n      <td>125.5605</td>\n      <td>63.287860</td>\n      <td>18.0</td>\n      <td>18.0</td>\n      <td>51.0</td>\n      <td>31.0</td>\n      <td>20.0</td>\n      <td>24.0</td>\n      <td>...</td>\n      <td>436.098059</td>\n      <td>64.171346</td>\n      <td>2.070043</td>\n      <td>19.841924</td>\n      <td>16.326873</td>\n      <td>0.000000</td>\n      <td>2583.0</td>\n      <td>50.0</td>\n      <td>0.782</td>\n      <td>174.0</td>\n    </tr>\n    <tr>\n      <th>1973</th>\n      <td>COc1cc(OC)cc(\\C=C\\c2ccc(OS(=O)(=O)[C@H]3C[C@H]...</td>\n      <td>1.8193</td>\n      <td>177.6817</td>\n      <td>89.159790</td>\n      <td>24.0</td>\n      <td>24.0</td>\n      <td>73.0</td>\n      <td>43.0</td>\n      <td>30.0</td>\n      <td>34.0</td>\n      <td>...</td>\n      <td>598.166139</td>\n      <td>88.708522</td>\n      <td>2.062989</td>\n      <td>25.464529</td>\n      <td>20.590936</td>\n      <td>0.000000</td>\n      <td>7421.0</td>\n      <td>70.0</td>\n      <td>2.526</td>\n      <td>236.0</td>\n    </tr>\n  </tbody>\n</table>\n<p>1974 rows × 248 columns</p>\n</div>"
     },
     "execution_count": 31,
     "metadata": {},
     "output_type": "execute_result"
    }
   ],
   "source": [
    "pre_threat_df, pre_threat_names = data_pre_threat()\n",
    "pre_threat_df"
   ]
  },
  {
   "cell_type": "markdown",
   "source": [
    "# 第二步：灰色关联度分析"
   ],
   "metadata": {
    "collapsed": false,
    "pycharm": {
     "name": "#%% md\n"
    }
   }
  },
  {
   "cell_type": "code",
   "execution_count": 4,
   "metadata": {
    "collapsed": false,
    "pycharm": {
     "name": "#%%\n"
    }
   },
   "outputs": [],
   "source": [
    "def get_sequence(m_df, names, csv_path):\n",
    "    \"\"\"\n",
    "    得到计算好的序列\n",
    "    :param m_df: 数据表\n",
    "    :param names: 名称\n",
    "    :param csv_path: 路径\n",
    "    :return: 处理好的序列\n",
    "    \"\"\"\n",
    "    if os.path.exists(csv_path):\n",
    "        sequence = pd.read_csv(csv_path)\n",
    "    else:\n",
    "        sequence = get_sequence_divide_mean(m_df, names)\n",
    "        sequence.to_csv(csv_path, index=False)\n",
    "    return sequence"
   ]
  },
  {
   "cell_type": "code",
   "execution_count": 5,
   "metadata": {
    "collapsed": false,
    "pycharm": {
     "name": "#%%\n"
    }
   },
   "outputs": [],
   "source": [
    "def get_mean_sequence():\n",
    "    era_names, era_df = get_objs_in_csv(\"../dataset/train/ERa_activity.csv\")\n",
    "    # 得到母序列均值商\n",
    "    parent = get_sequence(era_df, ['pIC50'], csv1_path)\n",
    "    # 得到子序列均值商\n",
    "    child_names1 = pre_threat_names[1:]\n",
    "    child = get_sequence(pre_threat_df, child_names1, csv2_path)\n",
    "    return parent, child, child_names1"
   ]
  },
  {
   "cell_type": "markdown",
   "source": [
    "## 指标正向化，确定分析数列，变量预处理"
   ],
   "metadata": {
    "collapsed": false,
    "pycharm": {
     "name": "#%% md\n"
    }
   }
  },
  {
   "cell_type": "code",
   "execution_count": 6,
   "metadata": {
    "collapsed": false,
    "pycharm": {
     "name": "#%%\n"
    }
   },
   "outputs": [],
   "source": [
    "parent_sequence, child_sequence, child_names = get_mean_sequence()"
   ]
  },
  {
   "cell_type": "code",
   "execution_count": 7,
   "metadata": {
    "collapsed": false,
    "pycharm": {
     "name": "#%%\n"
    }
   },
   "outputs": [],
   "source": [
    "def cal_ab():\n",
    "    local_min = 100\n",
    "    local_max = 0\n",
    "    for name in pre_threat_names[1:]:\n",
    "        # 对每一个子序列，计算对应值\n",
    "        sequence = child_sequence[name]\n",
    "        for i in range(len(sequence)):\n",
    "            # 每一行的数相减\n",
    "            t = abs(child_sequence.iloc[i] - parent_sequence['pIC50'][i])\n",
    "            if t < local_min:\n",
    "                local_min = t\n",
    "            if t > local_max:\n",
    "                local_max = t\n",
    "    return local_min, local_max"
   ]
  },
  {
   "cell_type": "code",
   "execution_count": 8,
   "metadata": {
    "collapsed": false,
    "pycharm": {
     "name": "#%%\n"
    }
   },
   "outputs": [],
   "source": [
    "a, b = cal_ab()"
   ]
  },
  {
   "cell_type": "markdown",
   "source": [
    "## 计算子序列中各个指标与母序列的关联系数"
   ],
   "metadata": {
    "collapsed": false,
    "pycharm": {
     "name": "#%% md\n"
    }
   }
  },
  {
   "cell_type": "code",
   "execution_count": 9,
   "outputs": [],
   "source": [
    "p = 0.5"
   ],
   "metadata": {
    "collapsed": false,
    "pycharm": {
     "name": "#%%\n"
    }
   }
  },
  {
   "cell_type": "code",
   "execution_count": 10,
   "metadata": {
    "collapsed": false,
    "pycharm": {
     "name": "#%%\n"
    }
   },
   "outputs": [],
   "source": [
    "def cal_relevancy():\n",
    "    copy_child = child_sequence.copy()\n",
    "    if os.path.exists(csv3_path):\n",
    "        copy_child = pd.read_csv(csv3_path)\n",
    "    else:\n",
    "        for name in tqdm(child_names):\n",
    "            # 对每一个子序列，计算对应值\n",
    "            sequence = copy_child[name]\n",
    "            for i in range(len(sequence)):\n",
    "                # 计算关联度\n",
    "                sequence[i] = (a + p * b) / (abs(sequence[i] - parent_sequence['pIC50'][i]) + p * b)\n",
    "        copy_child.to_csv(csv3_path, index=False)\n",
    "    return copy_child"
   ]
  },
  {
   "cell_type": "code",
   "execution_count": 11,
   "metadata": {
    "collapsed": false,
    "pycharm": {
     "name": "#%%\n"
    }
   },
   "outputs": [],
   "source": [
    "relevancy_df = cal_relevancy()"
   ]
  },
  {
   "cell_type": "code",
   "execution_count": 12,
   "metadata": {
    "collapsed": false,
    "pycharm": {
     "name": "#%%\n"
    }
   },
   "outputs": [],
   "source": [
    "def cal_relevancy_mean(m_df: pd.DataFrame):\n",
    "    obj_list = {}\n",
    "    for name in tqdm(child_names):\n",
    "        # 对每一个子序列，计算平均值\n",
    "        m_mean = m_df[name].mean()\n",
    "        obj_list[name] = m_mean\n",
    "    # t_df = pd.DataFrame(obj_list)\n",
    "    return obj_list"
   ]
  },
  {
   "cell_type": "code",
   "execution_count": 13,
   "outputs": [
    {
     "name": "stderr",
     "output_type": "stream",
     "text": [
      "100%|██████████| 247/247 [00:00<00:00, 35287.07it/s]\n"
     ]
    }
   ],
   "source": [
    "relevancy_mean_df = cal_relevancy_mean(relevancy_df)"
   ],
   "metadata": {
    "collapsed": false,
    "pycharm": {
     "name": "#%%\n"
    }
   }
  },
  {
   "cell_type": "code",
   "execution_count": 14,
   "outputs": [],
   "source": [
    "t_relevancy_mean_df = sorted(relevancy_mean_df.items(), key=lambda x: x[1], reverse=True)"
   ],
   "metadata": {
    "collapsed": false,
    "pycharm": {
     "name": "#%%\n"
    }
   }
  },
  {
   "cell_type": "markdown",
   "source": [
    "获取灰色关联度前100个"
   ],
   "metadata": {
    "collapsed": false,
    "pycharm": {
     "name": "#%% md\n"
    }
   }
  },
  {
   "cell_type": "code",
   "execution_count": 22,
   "outputs": [],
   "source": [
    "gray_name = []\n",
    "for t in t_relevancy_mean_df:\n",
    "    gray_name.append(t[0])"
   ],
   "metadata": {
    "collapsed": false,
    "pycharm": {
     "name": "#%%\n"
    }
   }
  },
  {
   "cell_type": "code",
   "execution_count": 23,
   "outputs": [],
   "source": [
    "gray_name = gray_name[:100]"
   ],
   "metadata": {
    "collapsed": false,
    "pycharm": {
     "name": "#%%\n"
    }
   }
  },
  {
   "cell_type": "code",
   "execution_count": 24,
   "outputs": [
    {
     "name": "stdout",
     "output_type": "stream",
     "text": [
      "<class 'pandas.core.frame.DataFrame'>\n",
      "RangeIndex: 1974 entries, 0 to 1973\n",
      "Data columns (total 100 columns):\n",
      " #   Column             Non-Null Count  Dtype  \n",
      "---  ------             --------------  -----  \n",
      " 0   BCUTp-1h           1974 non-null   float64\n",
      " 1   MLogP              1974 non-null   float64\n",
      " 2   VAdjMat            1974 non-null   float64\n",
      " 3   maxaaCH            1974 non-null   float64\n",
      " 4   ETA_Psi_1          1974 non-null   float64\n",
      " 5   WTPT-2             1974 non-null   float64\n",
      " 6   ETA_Epsilon_3      1974 non-null   float64\n",
      " 7   PetitjeanNumber    1974 non-null   float64\n",
      " 8   maxwHBa            1974 non-null   float64\n",
      " 9   ETA_BetaP_s        1974 non-null   float64\n",
      " 10  ETA_Epsilon_5      1974 non-null   float64\n",
      " 11  ETA_Epsilon_2      1974 non-null   float64\n",
      " 12  AMR                1974 non-null   float64\n",
      " 13  SP-2               1974 non-null   float64\n",
      " 14  Zagreb             1974 non-null   float64\n",
      " 15  SP-3               1974 non-null   float64\n",
      " 16  CrippenMR          1974 non-null   float64\n",
      " 17  ETA_Alpha          1974 non-null   float64\n",
      " 18  SP-0               1974 non-null   float64\n",
      " 19  nC                 1974 non-null   float64\n",
      " 20  nBonds             1974 non-null   float64\n",
      " 21  nHeavyAtom         1974 non-null   float64\n",
      " 22  ETA_Epsilon_4      1974 non-null   float64\n",
      " 23  WTPT-1             1974 non-null   float64\n",
      " 24  MW                 1974 non-null   float64\n",
      " 25  SP-1               1974 non-null   float64\n",
      " 26  ETA_Eta_R_L        1974 non-null   float64\n",
      " 27  BCUTp-1l           1974 non-null   float64\n",
      " 28  SP-4               1974 non-null   float64\n",
      " 29  CrippenLogP        1974 non-null   float64\n",
      " 30  SP-5               1974 non-null   float64\n",
      " 31  WPOL               1974 non-null   float64\n",
      " 32  ETA_EtaP_L         1974 non-null   float64\n",
      " 33  VP-0               1974 non-null   float64\n",
      " 34  minaaCH            1974 non-null   float64\n",
      " 35  MLFER_L            1974 non-null   float64\n",
      " 36  McGowan_Volume     1974 non-null   float64\n",
      " 37  ATSm3              1974 non-null   float64\n",
      " 38  VABC               1974 non-null   float64\n",
      " 39  ETA_EtaP           1974 non-null   float64\n",
      " 40  sumI               1974 non-null   float64\n",
      " 41  ETA_Epsilon_1      1974 non-null   float64\n",
      " 42  ETA_Beta           1974 non-null   float64\n",
      " 43  apol               1974 non-null   float64\n",
      " 44  ATSm2              1974 non-null   float64\n",
      " 45  ATSm4              1974 non-null   float64\n",
      " 46  ETA_Beta_s         1974 non-null   float64\n",
      " 47  VP-1               1974 non-null   float64\n",
      " 48  Kier1              1974 non-null   float64\n",
      " 49  MLFER_E            1974 non-null   float64\n",
      " 50  ATSp1              1974 non-null   float64\n",
      " 51  minHother          1974 non-null   float64\n",
      " 52  ATSp2              1974 non-null   float64\n",
      " 53  ETA_BetaP          1974 non-null   float64\n",
      " 54  VP-2               1974 non-null   float64\n",
      " 55  nRing              1974 non-null   float64\n",
      " 56  minHaaCH           1974 non-null   float64\n",
      " 57  maxHother          1974 non-null   float64\n",
      " 58  maxHaaCH           1974 non-null   float64\n",
      " 59  SP-6               1974 non-null   float64\n",
      " 60  ETA_Eta_B_RC       1974 non-null   float64\n",
      " 61  nBonds2            1974 non-null   float64\n",
      " 62  nwHBa              1974 non-null   float64\n",
      " 63  nAtom              1974 non-null   float64\n",
      " 64  gmax               1974 non-null   float64\n",
      " 65  maxHBa             1974 non-null   float64\n",
      " 66  ATSp3              1974 non-null   float64\n",
      " 67  SPC-4              1974 non-null   float64\n",
      " 68  ATSm5              1974 non-null   float64\n",
      " 69  ETA_Shape_Y        1974 non-null   float64\n",
      " 70  ETA_Beta_ns        1974 non-null   float64\n",
      " 71  MDEC-23            1974 non-null   float64\n",
      " 72  FMF                1974 non-null   float64\n",
      " 73  ETA_Eta_F_L        1974 non-null   float64\n",
      " 74  naAromAtom         1974 non-null   float64\n",
      " 75  VP-3               1974 non-null   float64\n",
      " 76  ATSp4              1974 non-null   float64\n",
      " 77  nBondsD            1974 non-null   float64\n",
      " 78  ETA_Eta_R          1974 non-null   float64\n",
      " 79  C2SP2              1974 non-null   float64\n",
      " 80  n6Ring             1974 non-null   float64\n",
      " 81  nBondsM            1974 non-null   float64\n",
      " 82  ETA_EtaP_F_L       1974 non-null   float64\n",
      " 83  nBondsS            1974 non-null   float64\n",
      " 84  SP-7               1974 non-null   float64\n",
      " 85  maxaasC            1974 non-null   float64\n",
      " 86  SPC-5              1974 non-null   float64\n",
      " 87  MLFER_S            1974 non-null   float64\n",
      " 88  nT6Ring            1974 non-null   float64\n",
      " 89  ETA_EtaP_B_RC      1974 non-null   float64\n",
      " 90  ETA_Eta_L          1974 non-null   float64\n",
      " 91  nAromBond          1974 non-null   float64\n",
      " 92  Kier2              1974 non-null   float64\n",
      " 93  LipoaffinityIndex  1974 non-null   float64\n",
      " 94  naasC              1974 non-null   float64\n",
      " 95  SPC-6              1974 non-null   float64\n",
      " 96  ATSm1              1974 non-null   float64\n",
      " 97  VP-4               1974 non-null   float64\n",
      " 98  ATSp5              1974 non-null   float64\n",
      " 99  MAXDP2             1974 non-null   float64\n",
      "dtypes: float64(100)\n",
      "memory usage: 1.5 MB\n"
     ]
    }
   ],
   "source": [
    "forest_dataset = pre_threat_df[gray_name]\n",
    "forest_dataset.info()"
   ],
   "metadata": {
    "collapsed": false,
    "pycharm": {
     "name": "#%%\n"
    }
   }
  },
  {
   "cell_type": "code",
   "execution_count": 25,
   "outputs": [],
   "source": [
    "forest_dataset = forest_dataset.apply(lambda row: row * 10000, axis=1)"
   ],
   "metadata": {
    "collapsed": false,
    "pycharm": {
     "name": "#%%\n"
    }
   }
  },
  {
   "cell_type": "code",
   "execution_count": 26,
   "outputs": [
    {
     "data": {
      "text/plain": "         BCUTp-1h    MLogP      VAdjMat      maxaaCH  ETA_Psi_1       WTPT-2  \\\n0     132548.5902  37700.0  59541.96310  22228.15571     6175.7  20894.09041   \n1     136176.0896  39900.0  60443.94119  22384.40571     6227.6  20896.97692   \n2     133934.5285  37700.0  60443.94119  21171.21914     5987.6  20833.00711   \n3     130795.4735  39900.0  60443.94119  22286.87484     6227.6  20873.84716   \n4     130434.5358  39900.0  60443.94119  22089.95777     6227.6  20873.84716   \n...           ...      ...          ...          ...        ...          ...   \n1969  127753.1495  42100.0  64262.64755  18729.73079     5616.4  20630.23171   \n1970  127740.8648  39900.0  63575.52005  17891.47690     5555.5  20649.28967   \n1971  127291.9207  39900.0  63575.52005  17842.93583     5555.5  20648.93717   \n1972  126842.9911  33300.0  59541.96310  18038.75581     5583.4  20700.43427   \n1973  127298.0654  42100.0  64262.64755  18892.63066     5616.4  20629.88893   \n\n      ETA_Epsilon_3  PetitjeanNumber      maxwHBa  ETA_BetaP_s  ...  \\\n0            4458.8       4705.88235  22228.15571       6290.3  ...   \n1            4450.5       4705.88235  22384.40571       6212.1  ...   \n2            4450.5       4705.88235  21171.21914       6287.9  ...   \n3            4450.5       4705.88235  22286.87484       6212.1  ...   \n4            4450.5       4705.88235  22089.95777       6212.1  ...   \n...             ...              ...          ...          ...  ...   \n1969         4445.4       5000.00000  18890.80073       6279.1  ...   \n1970         4451.3       4736.84211  17891.47690       6219.5  ...   \n1971         4451.3       5000.00000  17842.93583       6219.5  ...   \n1972         4458.8       5000.00000  18038.75581       6290.3  ...   \n1973         4445.4       4761.90476  19190.98242       6279.1  ...   \n\n      ETA_Eta_L  nAromBond         Kier2  LipoaffinityIndex    naasC  \\\n0       99932.0   120000.0  109505.20830       118309.49200  50000.0   \n1      109932.0   120000.0  123008.00000       131499.73910  50000.0   \n2       86902.4   180000.0  118231.44940       105771.77300  70000.0   \n3      109763.6   120000.0  123008.00000       132127.66890  50000.0   \n4       89941.8   180000.0  123008.00000       124896.90710  60000.0   \n...         ...        ...           ...                ...      ...   \n1969    90420.3   240000.0  144085.71430       102929.31560  90000.0   \n1970    84543.3   240000.0  131574.39450        78840.91608  90000.0   \n1971    84543.3   240000.0  131574.39450        79650.74063  90000.0   \n1972    66589.8   180000.0   93306.21302        62365.58223  50000.0   \n1973    90420.3   240000.0  144085.71430       103711.83850  90000.0   \n\n             SPC-6        ATSm1         VP-4        ATSp5       MAXDP2  \n0      90197.29143  398111.4045  67300.82481  37927797.60  39215.40668  \n1      92554.31403  418111.4045  70836.35871  41543847.41  40115.40668  \n2      97607.36758  425856.0948  57865.64953  39937340.54  39301.00601  \n3      87060.54056  418111.4045  70108.24635  38501901.06  39776.21056  \n4      87060.54056  418111.4045  59902.39144  38061206.73  39459.34813  \n...            ...          ...          ...          ...          ...  \n1969  179511.51910  553235.0532  59693.29376  62376298.55  66989.68018  \n1970  174918.95450  533235.0532  57579.21020  59485337.03  66050.74198  \n1971  174123.29240  533235.0532  57242.16100  58040105.90  65111.68390  \n1972  145078.97740  417745.6725  46590.60531  47275568.04  61130.40120  \n1973  178715.85710  553235.0532  59356.24455  60897653.37  65917.74597  \n\n[1974 rows x 100 columns]",
      "text/html": "<div>\n<style scoped>\n    .dataframe tbody tr th:only-of-type {\n        vertical-align: middle;\n    }\n\n    .dataframe tbody tr th {\n        vertical-align: top;\n    }\n\n    .dataframe thead th {\n        text-align: right;\n    }\n</style>\n<table border=\"1\" class=\"dataframe\">\n  <thead>\n    <tr style=\"text-align: right;\">\n      <th></th>\n      <th>BCUTp-1h</th>\n      <th>MLogP</th>\n      <th>VAdjMat</th>\n      <th>maxaaCH</th>\n      <th>ETA_Psi_1</th>\n      <th>WTPT-2</th>\n      <th>ETA_Epsilon_3</th>\n      <th>PetitjeanNumber</th>\n      <th>maxwHBa</th>\n      <th>ETA_BetaP_s</th>\n      <th>...</th>\n      <th>ETA_Eta_L</th>\n      <th>nAromBond</th>\n      <th>Kier2</th>\n      <th>LipoaffinityIndex</th>\n      <th>naasC</th>\n      <th>SPC-6</th>\n      <th>ATSm1</th>\n      <th>VP-4</th>\n      <th>ATSp5</th>\n      <th>MAXDP2</th>\n    </tr>\n  </thead>\n  <tbody>\n    <tr>\n      <th>0</th>\n      <td>132548.5902</td>\n      <td>37700.0</td>\n      <td>59541.96310</td>\n      <td>22228.15571</td>\n      <td>6175.7</td>\n      <td>20894.09041</td>\n      <td>4458.8</td>\n      <td>4705.88235</td>\n      <td>22228.15571</td>\n      <td>6290.3</td>\n      <td>...</td>\n      <td>99932.0</td>\n      <td>120000.0</td>\n      <td>109505.20830</td>\n      <td>118309.49200</td>\n      <td>50000.0</td>\n      <td>90197.29143</td>\n      <td>398111.4045</td>\n      <td>67300.82481</td>\n      <td>37927797.60</td>\n      <td>39215.40668</td>\n    </tr>\n    <tr>\n      <th>1</th>\n      <td>136176.0896</td>\n      <td>39900.0</td>\n      <td>60443.94119</td>\n      <td>22384.40571</td>\n      <td>6227.6</td>\n      <td>20896.97692</td>\n      <td>4450.5</td>\n      <td>4705.88235</td>\n      <td>22384.40571</td>\n      <td>6212.1</td>\n      <td>...</td>\n      <td>109932.0</td>\n      <td>120000.0</td>\n      <td>123008.00000</td>\n      <td>131499.73910</td>\n      <td>50000.0</td>\n      <td>92554.31403</td>\n      <td>418111.4045</td>\n      <td>70836.35871</td>\n      <td>41543847.41</td>\n      <td>40115.40668</td>\n    </tr>\n    <tr>\n      <th>2</th>\n      <td>133934.5285</td>\n      <td>37700.0</td>\n      <td>60443.94119</td>\n      <td>21171.21914</td>\n      <td>5987.6</td>\n      <td>20833.00711</td>\n      <td>4450.5</td>\n      <td>4705.88235</td>\n      <td>21171.21914</td>\n      <td>6287.9</td>\n      <td>...</td>\n      <td>86902.4</td>\n      <td>180000.0</td>\n      <td>118231.44940</td>\n      <td>105771.77300</td>\n      <td>70000.0</td>\n      <td>97607.36758</td>\n      <td>425856.0948</td>\n      <td>57865.64953</td>\n      <td>39937340.54</td>\n      <td>39301.00601</td>\n    </tr>\n    <tr>\n      <th>3</th>\n      <td>130795.4735</td>\n      <td>39900.0</td>\n      <td>60443.94119</td>\n      <td>22286.87484</td>\n      <td>6227.6</td>\n      <td>20873.84716</td>\n      <td>4450.5</td>\n      <td>4705.88235</td>\n      <td>22286.87484</td>\n      <td>6212.1</td>\n      <td>...</td>\n      <td>109763.6</td>\n      <td>120000.0</td>\n      <td>123008.00000</td>\n      <td>132127.66890</td>\n      <td>50000.0</td>\n      <td>87060.54056</td>\n      <td>418111.4045</td>\n      <td>70108.24635</td>\n      <td>38501901.06</td>\n      <td>39776.21056</td>\n    </tr>\n    <tr>\n      <th>4</th>\n      <td>130434.5358</td>\n      <td>39900.0</td>\n      <td>60443.94119</td>\n      <td>22089.95777</td>\n      <td>6227.6</td>\n      <td>20873.84716</td>\n      <td>4450.5</td>\n      <td>4705.88235</td>\n      <td>22089.95777</td>\n      <td>6212.1</td>\n      <td>...</td>\n      <td>89941.8</td>\n      <td>180000.0</td>\n      <td>123008.00000</td>\n      <td>124896.90710</td>\n      <td>60000.0</td>\n      <td>87060.54056</td>\n      <td>418111.4045</td>\n      <td>59902.39144</td>\n      <td>38061206.73</td>\n      <td>39459.34813</td>\n    </tr>\n    <tr>\n      <th>...</th>\n      <td>...</td>\n      <td>...</td>\n      <td>...</td>\n      <td>...</td>\n      <td>...</td>\n      <td>...</td>\n      <td>...</td>\n      <td>...</td>\n      <td>...</td>\n      <td>...</td>\n      <td>...</td>\n      <td>...</td>\n      <td>...</td>\n      <td>...</td>\n      <td>...</td>\n      <td>...</td>\n      <td>...</td>\n      <td>...</td>\n      <td>...</td>\n      <td>...</td>\n      <td>...</td>\n    </tr>\n    <tr>\n      <th>1969</th>\n      <td>127753.1495</td>\n      <td>42100.0</td>\n      <td>64262.64755</td>\n      <td>18729.73079</td>\n      <td>5616.4</td>\n      <td>20630.23171</td>\n      <td>4445.4</td>\n      <td>5000.00000</td>\n      <td>18890.80073</td>\n      <td>6279.1</td>\n      <td>...</td>\n      <td>90420.3</td>\n      <td>240000.0</td>\n      <td>144085.71430</td>\n      <td>102929.31560</td>\n      <td>90000.0</td>\n      <td>179511.51910</td>\n      <td>553235.0532</td>\n      <td>59693.29376</td>\n      <td>62376298.55</td>\n      <td>66989.68018</td>\n    </tr>\n    <tr>\n      <th>1970</th>\n      <td>127740.8648</td>\n      <td>39900.0</td>\n      <td>63575.52005</td>\n      <td>17891.47690</td>\n      <td>5555.5</td>\n      <td>20649.28967</td>\n      <td>4451.3</td>\n      <td>4736.84211</td>\n      <td>17891.47690</td>\n      <td>6219.5</td>\n      <td>...</td>\n      <td>84543.3</td>\n      <td>240000.0</td>\n      <td>131574.39450</td>\n      <td>78840.91608</td>\n      <td>90000.0</td>\n      <td>174918.95450</td>\n      <td>533235.0532</td>\n      <td>57579.21020</td>\n      <td>59485337.03</td>\n      <td>66050.74198</td>\n    </tr>\n    <tr>\n      <th>1971</th>\n      <td>127291.9207</td>\n      <td>39900.0</td>\n      <td>63575.52005</td>\n      <td>17842.93583</td>\n      <td>5555.5</td>\n      <td>20648.93717</td>\n      <td>4451.3</td>\n      <td>5000.00000</td>\n      <td>17842.93583</td>\n      <td>6219.5</td>\n      <td>...</td>\n      <td>84543.3</td>\n      <td>240000.0</td>\n      <td>131574.39450</td>\n      <td>79650.74063</td>\n      <td>90000.0</td>\n      <td>174123.29240</td>\n      <td>533235.0532</td>\n      <td>57242.16100</td>\n      <td>58040105.90</td>\n      <td>65111.68390</td>\n    </tr>\n    <tr>\n      <th>1972</th>\n      <td>126842.9911</td>\n      <td>33300.0</td>\n      <td>59541.96310</td>\n      <td>18038.75581</td>\n      <td>5583.4</td>\n      <td>20700.43427</td>\n      <td>4458.8</td>\n      <td>5000.00000</td>\n      <td>18038.75581</td>\n      <td>6290.3</td>\n      <td>...</td>\n      <td>66589.8</td>\n      <td>180000.0</td>\n      <td>93306.21302</td>\n      <td>62365.58223</td>\n      <td>50000.0</td>\n      <td>145078.97740</td>\n      <td>417745.6725</td>\n      <td>46590.60531</td>\n      <td>47275568.04</td>\n      <td>61130.40120</td>\n    </tr>\n    <tr>\n      <th>1973</th>\n      <td>127298.0654</td>\n      <td>42100.0</td>\n      <td>64262.64755</td>\n      <td>18892.63066</td>\n      <td>5616.4</td>\n      <td>20629.88893</td>\n      <td>4445.4</td>\n      <td>4761.90476</td>\n      <td>19190.98242</td>\n      <td>6279.1</td>\n      <td>...</td>\n      <td>90420.3</td>\n      <td>240000.0</td>\n      <td>144085.71430</td>\n      <td>103711.83850</td>\n      <td>90000.0</td>\n      <td>178715.85710</td>\n      <td>553235.0532</td>\n      <td>59356.24455</td>\n      <td>60897653.37</td>\n      <td>65917.74597</td>\n    </tr>\n  </tbody>\n</table>\n<p>1974 rows × 100 columns</p>\n</div>"
     },
     "execution_count": 26,
     "metadata": {},
     "output_type": "execute_result"
    }
   ],
   "source": [
    "forest_dataset"
   ],
   "metadata": {
    "collapsed": false,
    "pycharm": {
     "name": "#%%\n"
    }
   }
  },
  {
   "cell_type": "code",
   "execution_count": 27,
   "outputs": [],
   "source": [
    "from sklearn.model_selection import train_test_split\n",
    "from sklearn.ensemble import RandomForestClassifier\n",
    "\n",
    "x, y = forest_dataset.iloc[:, 1:].values, forest_dataset.iloc[:, 0].values\n",
    "x_train, x_test, y_train, y_test = train_test_split(x, y, test_size=0.3, random_state=0)\n",
    "feat_labels = forest_dataset.columns[1:]\n",
    "forest = RandomForestClassifier(n_estimators=100, random_state=0, n_jobs=-1)"
   ],
   "metadata": {
    "collapsed": false,
    "pycharm": {
     "name": "#%%\n"
    }
   }
  },
  {
   "cell_type": "code",
   "execution_count": 28,
   "outputs": [
    {
     "data": {
      "text/plain": "RandomForestClassifier(n_jobs=-1, random_state=0)"
     },
     "execution_count": 28,
     "metadata": {},
     "output_type": "execute_result"
    }
   ],
   "source": [
    "forest.fit(x_train, y_train.astype('int'))"
   ],
   "metadata": {
    "collapsed": false,
    "pycharm": {
     "name": "#%%\n"
    }
   }
  },
  {
   "cell_type": "code",
   "execution_count": 29,
   "outputs": [
    {
     "name": "stdout",
     "output_type": "stream",
     "text": [
      " 1) MAXDP2                         0.015986\n",
      " 2) gmax                           0.015797\n",
      " 3) BCUTp-1l                       0.015075\n",
      " 4) maxHBa                         0.014967\n",
      " 5) LipoaffinityIndex              0.014728\n",
      " 6) maxaasC                        0.014603\n",
      " 7) ETA_EtaP_B_RC                  0.014440\n",
      " 8) WTPT-2                         0.014122\n",
      " 9) CrippenLogP                    0.014113\n",
      "10) ETA_Shape_Y                    0.013895\n",
      "11) minaaCH                        0.013806\n",
      "12) minHother                      0.013334\n",
      "13) MDEC-23                        0.013321\n",
      "14) MLFER_S                        0.013290\n",
      "15) maxwHBa                        0.013283\n",
      "16) maxaaCH                        0.013005\n",
      "17) maxHaaCH                       0.012977\n",
      "18) ATSp5                          0.012949\n",
      "19) maxHother                      0.012861\n",
      "20) MLFER_E                        0.012588\n",
      "21) ATSp4                          0.012532\n",
      "22) ETA_EtaP_F_L                   0.012502\n",
      "23) ETA_EtaP_L                     0.012368\n",
      "24) VP-4                           0.012364\n",
      "25) SP-7                           0.012310\n",
      "26) ATSm5                          0.012203\n",
      "27) minHaaCH                       0.012117\n",
      "28) SPC-6                          0.012076\n",
      "29) SP-5                           0.011780\n",
      "30) ETA_BetaP_s                    0.011775\n",
      "31) ATSm4                          0.011749\n",
      "32) VP-3                           0.011734\n",
      "33) FMF                            0.011725\n",
      "34) SPC-4                          0.011616\n",
      "35) MLFER_L                        0.011610\n",
      "36) VP-2                           0.011525\n",
      "37) SPC-5                          0.011479\n",
      "38) ETA_Eta_F_L                    0.011454\n",
      "39) ETA_Epsilon_1                  0.011337\n",
      "40) SP-6                           0.011245\n",
      "41) ETA_Eta_L                      0.011234\n",
      "42) ATSp3                          0.011223\n",
      "43) ETA_Eta_B_RC                   0.011164\n",
      "44) ATSp2                          0.011156\n",
      "45) ETA_Epsilon_4                  0.011142\n",
      "46) ETA_EtaP                       0.011114\n",
      "47) ATSm3                          0.010672\n",
      "48) ETA_Psi_1                      0.010627\n",
      "49) sumI                           0.010573\n",
      "50) ETA_Epsilon_5                  0.010485\n",
      "51) ETA_BetaP                      0.010408\n",
      "52) SP-4                           0.010326\n",
      "53) ATSp1                          0.010220\n",
      "54) ATSm2                          0.010191\n",
      "55) ETA_Epsilon_2                  0.010148\n",
      "56) CrippenMR                      0.009945\n",
      "57) SP-3                           0.009881\n",
      "58) AMR                            0.009585\n",
      "59) ATSm1                          0.009574\n",
      "60) VP-1                           0.009472\n",
      "61) apol                           0.009402\n",
      "62) ETA_Eta_R                      0.009337\n",
      "63) Kier2                          0.009240\n",
      "64) ETA_Beta                       0.009202\n",
      "65) VABC                           0.009163\n",
      "66) SP-2                           0.008915\n",
      "67) WTPT-1                         0.008723\n",
      "68) MW                             0.008723\n",
      "69) VP-0                           0.008716\n",
      "70) McGowan_Volume                 0.008669\n",
      "71) nBondsS                        0.008406\n",
      "72) MLogP                          0.008388\n",
      "73) ETA_Epsilon_3                  0.008374\n",
      "74) SP-1                           0.008271\n",
      "75) ETA_Eta_R_L                    0.008075\n",
      "76) ETA_Beta_ns                    0.007967\n",
      "77) nBonds2                        0.007610\n",
      "78) ETA_Beta_s                     0.007596\n",
      "79) WPOL                           0.007533\n",
      "80) nAtom                          0.007533\n",
      "81) ETA_Alpha                      0.007442\n",
      "82) C2SP2                          0.006849\n",
      "83) SP-0                           0.006622\n",
      "84) Kier1                          0.006546\n",
      "85) nwHBa                          0.006487\n",
      "86) Zagreb                         0.006312\n",
      "87) naasC                          0.005988\n",
      "88) nBondsM                        0.005925\n",
      "89) nC                             0.005390\n",
      "90) PetitjeanNumber                0.005267\n",
      "91) naAromAtom                     0.005118\n",
      "92) VAdjMat                        0.005014\n",
      "93) nAromBond                      0.004990\n",
      "94) nBonds                         0.004812\n",
      "95) n6Ring                         0.004749\n",
      "96) nHeavyAtom                     0.004748\n",
      "97) nBondsD                        0.004658\n",
      "98) nT6Ring                        0.004486\n",
      "99) nRing                          0.002969\n"
     ]
    }
   ],
   "source": [
    "importances = forest.feature_importances_\n",
    "indices = np.argsort(importances)[::-1]\n",
    "for f in range(x_train.shape[1]):\n",
    "    print(\"%2d) %-*s %f\" % (f + 1, 30, feat_labels[indices[f]], importances[indices[f]]))"
   ],
   "metadata": {
    "collapsed": false,
    "pycharm": {
     "name": "#%%\n"
    }
   }
  },
  {
   "cell_type": "code",
   "execution_count": null,
   "outputs": [],
   "source": [],
   "metadata": {
    "collapsed": false,
    "pycharm": {
     "name": "#%%\n"
    }
   }
  }
 ],
 "metadata": {
  "kernelspec": {
   "display_name": "Python 3.10.4 64-bit ('py310')",
   "language": "python",
   "name": "python3"
  },
  "language_info": {
   "codemirror_mode": {
    "name": "ipython",
    "version": 3
   },
   "file_extension": ".py",
   "mimetype": "text/x-python",
   "name": "python",
   "nbconvert_exporter": "python",
   "pygments_lexer": "ipython3",
   "version": "3.10.4"
  },
  "vscode": {
   "interpreter": {
    "hash": "d868c725285a4c28b31f35b72ce7912464b17da2c8e468dd6d9b66ab40e07315"
   }
  }
 },
 "nbformat": 4,
 "nbformat_minor": 0
}