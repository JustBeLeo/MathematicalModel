{
 "cells": [
  {
   "cell_type": "code",
   "execution_count": 1,
   "metadata": {
    "pycharm": {
     "name": "#%%\n"
    }
   },
   "outputs": [],
   "source": [
    "import os\n",
    "\n",
    "from d_2021.config.path import *\n",
    "from d_2021.utils.import_utils import *\n",
    "from d_2021.utils.math_utils import *\n",
    "from d_2021.utils.common_utils import *\n",
    "from tqdm import *"
   ]
  },
  {
   "cell_type": "code",
   "execution_count": 2,
   "metadata": {
    "pycharm": {
     "name": "#%%\n"
    }
   },
   "outputs": [],
   "source": [
    "def data_pre_threat():\n",
    "    if os.path.exists(md_df_path):\n",
    "        md_df_3 = pd.read_csv(md_df_path)\n",
    "        md_names = md_df_3.columns.tolist()\n",
    "    else:\n",
    "        md_names, md_df = get_objs_in_csv(\"../../dataset/train/Molecular_Descriptor.csv\")\n",
    "        print('总特征数:', len(md_names) - 1)\n",
    "        error_names = []\n",
    "        # 使用箱线法去除异常值出现大于100次的列\n",
    "        for md_name in md_names[1:]:\n",
    "            row = md_df[md_name].tolist()\n",
    "            # row = str_list_2_int(row)\n",
    "            min_num, Q1, Q2, Q3, max_num = get_box_plot(row, md_name, False)\n",
    "            # 计算异常值数量\n",
    "            error_count = 0\n",
    "            for i in range(len(row)):\n",
    "                cell = md_df[md_name][i]\n",
    "                if cell < min_num:\n",
    "                    error_count += 1\n",
    "                    md_df.loc[i, md_name] = min_num\n",
    "                if cell > max_num:\n",
    "                    error_count += 1\n",
    "                    md_df.loc[i, md_name] = max_num\n",
    "            if error_count > 100:\n",
    "                error_names.append(md_name)\n",
    "        print('异常值数量:', len(error_names))\n",
    "        md_df_2 = remove_names(md_df, md_names, error_names)\n",
    "        # 含0大于0.9的列\n",
    "        zero_names = []\n",
    "        # 计算列内含0大于90%的列\n",
    "        for md_name in md_names[1:]:\n",
    "            row = md_df_2[md_name]\n",
    "            p = count_zero(row)\n",
    "            if p > 0.9:\n",
    "                zero_names.append(md_name)\n",
    "        print('0值大于90%数量:', len(zero_names))\n",
    "        md_df_3 = remove_names(md_df_2, md_names, zero_names)\n",
    "        print('筛选后总数', len(md_names) - 1)\n",
    "        md_df_3.to_csv(md_df_path, index=False)\n",
    "    return md_df_3, md_names"
   ]
  },
  {
   "cell_type": "markdown",
   "metadata": {
    "pycharm": {
     "name": "#%% md\n"
    }
   },
   "source": [
    "# 一、 数据清洗\n",
    "## 1. 去除异常值 2. 去除0多的值"
   ]
  },
  {
   "cell_type": "code",
   "execution_count": 3,
   "metadata": {
    "pycharm": {
     "name": "#%%\n"
    }
   },
   "outputs": [
    {
     "name": "stdout",
     "output_type": "stream",
     "text": [
      "===================第一步==================\n",
      "数据清洗 1. 去除异常值 2. 去除0多的值\n",
      "\n"
     ]
    }
   ],
   "source": [
    "# 预处理后的Molecular_Descriptor\n",
    "\n",
    "print('===================第一步==================')\n",
    "print('数据清洗 1. 去除异常值 2. 去除0多的值')\n",
    "pre_threat_df, pre_threat_names = data_pre_threat()\n",
    "print()"
   ]
  },
  {
   "cell_type": "markdown",
   "metadata": {
    "pycharm": {
     "name": "#%% md\n"
    }
   },
   "source": [
    "# 二、 计算灰色关联度，获取前n个数据"
   ]
  },
  {
   "cell_type": "code",
   "execution_count": 4,
   "metadata": {
    "pycharm": {
     "name": "#%%\n"
    }
   },
   "outputs": [
    {
     "name": "stdout",
     "output_type": "stream",
     "text": [
      "===================第二步==================\n",
      "求灰色关联度\n",
      "获取母子序列均值商\n",
      "计算母子矩阵差值矩阵极值\n",
      "计算灰色关联度矩阵\n"
     ]
    },
    {
     "name": "stderr",
     "output_type": "stream",
     "text": [
      "100%|██████████| 247/247 [00:00<00:00, 44749.39it/s]\n"
     ]
    }
   ],
   "source": [
    "print('===================第二步==================')\n",
    "print('求灰色关联度')\n",
    "era_names, era_df = get_objs_in_csv(\"../../dataset/train/ERa_activity.csv\")\n",
    "p_df = era_df['pIC50']\n",
    "grey_df = get_gray_relation_dataframe(p_df, pre_threat_df)\n",
    "top_names = get_relevancy_top(grey_df, 100)"
   ]
  },
  {
   "cell_type": "markdown",
   "metadata": {
    "pycharm": {
     "name": "#%% md\n"
    }
   },
   "source": [
    "# 三、 使用随机森林筛选重要特征"
   ]
  },
  {
   "cell_type": "code",
   "execution_count": 5,
   "metadata": {
    "pycharm": {
     "name": "#%%\n"
    }
   },
   "outputs": [
    {
     "name": "stdout",
     "output_type": "stream",
     "text": [
      " 1) MAXDP2                         0.016919\n",
      " 2) gmax                           0.015790\n",
      " 3) BCUTp-1l                       0.015205\n",
      " 4) maxHBa                         0.015113\n",
      " 5) maxaasC                        0.014420\n",
      " 6) LipoaffinityIndex              0.014181\n",
      " 7) MDEC-23                        0.014039\n",
      " 8) CrippenLogP                    0.013946\n",
      " 9) ETA_EtaP_B_RC                  0.013840\n",
      "10) maxaaCH                        0.013646\n",
      "11) maxHaaCH                       0.013578\n",
      "12) ETA_EtaP                       0.013344\n",
      "13) minHaaCH                       0.013315\n",
      "14) WTPT-2                         0.013283\n",
      "15) minaaCH                        0.013241\n",
      "16) maxHother                      0.013100\n",
      "17) minHother                      0.012974\n",
      "18) maxwHBa                        0.012974\n",
      "19) ETA_Shape_Y                    0.012967\n",
      "20) VP-4                           0.012898\n",
      "21) ATSm5                          0.012814\n",
      "22) ATSp5                          0.012595\n",
      "23) SP-7                           0.012494\n",
      "24) ATSp4                          0.012431\n",
      "25) ATSp3                          0.012430\n",
      "26) ETA_EtaP_L                     0.012412\n",
      "27) MLFER_S                        0.012317\n",
      "28) VP-3                           0.012288\n",
      "29) MLFER_L                        0.012152\n",
      "30) SPC-6                          0.012090\n",
      "31) ETA_Eta_L                      0.012089\n",
      "32) ETA_BetaP_s                    0.011978\n",
      "33) VP-2                           0.011976\n",
      "34) ATSp2                          0.011860\n",
      "35) MLFER_E                        0.011785\n",
      "36) SP-6                           0.011778\n",
      "37) FMF                            0.011690\n",
      "38) ATSm4                          0.011645\n",
      "39) ETA_EtaP_F_L                   0.011601\n",
      "40) SPC-5                          0.011562\n",
      "41) SPC-4                          0.011515\n",
      "42) ETA_Eta_F_L                    0.011472\n",
      "43) ATSp1                          0.011425\n",
      "44) ETA_Epsilon_5                  0.011308\n",
      "45) ETA_Psi_1                      0.011288\n",
      "46) SP-5                           0.011024\n",
      "47) ETA_Epsilon_1                  0.010972\n",
      "48) ETA_BetaP                      0.010967\n",
      "49) SP-4                           0.010524\n",
      "50) AMR                            0.010327\n",
      "51) ATSm3                          0.010237\n",
      "52) ETA_Eta_B_RC                   0.010199\n",
      "53) VP-1                           0.010183\n",
      "54) CrippenMR                      0.010179\n",
      "55) SP-3                           0.010091\n",
      "56) ATSm2                          0.010025\n",
      "57) ATSm1                          0.010005\n",
      "58) ETA_Epsilon_4                  0.010001\n",
      "59) sumI                           0.009826\n",
      "60) ETA_Epsilon_2                  0.009725\n",
      "61) ETA_Eta_R                      0.009707\n",
      "62) SP-2                           0.009654\n",
      "63) ETA_Beta                       0.009633\n",
      "64) WTPT-1                         0.009541\n",
      "65) Kier2                          0.009355\n",
      "66) VABC                           0.009178\n",
      "67) MW                             0.009069\n",
      "68) apol                           0.008650\n",
      "69) McGowan_Volume                 0.008505\n",
      "70) VP-0                           0.008319\n",
      "71) WPOL                           0.007946\n",
      "72) ETA_Eta_R_L                    0.007788\n",
      "73) ETA_Alpha                      0.007723\n",
      "74) SP-1                           0.007710\n",
      "75) nBondsS                        0.007654\n",
      "76) ETA_Epsilon_3                  0.007628\n",
      "77) MLogP                          0.007493\n",
      "78) ETA_Beta_s                     0.007468\n",
      "79) ETA_Beta_ns                    0.007449\n",
      "80) nAtom                          0.007333\n",
      "81) C2SP2                          0.007232\n",
      "82) nBonds2                        0.006921\n",
      "83) SP-0                           0.006786\n",
      "84) nwHBa                          0.006216\n",
      "85) Kier1                          0.006084\n",
      "86) Zagreb                         0.005934\n",
      "87) naasC                          0.005823\n",
      "88) nBondsM                        0.005575\n",
      "89) nC                             0.005513\n",
      "90) PetitjeanNumber                0.005436\n",
      "91) naAromAtom                     0.004992\n",
      "92) nBonds                         0.004872\n",
      "93) nHeavyAtom                     0.004482\n",
      "94) nAromBond                      0.004476\n",
      "95) VAdjMat                        0.004439\n",
      "96) n6Ring                         0.004298\n",
      "97) nBondsD                        0.004250\n",
      "98) nT6Ring                        0.004138\n",
      "99) nRing                          0.002677\n"
     ]
    }
   ],
   "source": [
    "forest_dataset = pre_threat_df[top_names]\n",
    "# 将数据放大10000倍，因为不能用float进行训练\n",
    "forest_dataset = forest_dataset.apply(lambda row: row * 10000, axis=1)\n",
    "feat_labels = forest_dataset.columns[1:]\n",
    "x, forest = get_random_forest_result(forest_dataset)\n",
    "importance = forest.feature_importances_\n",
    "indices = np.argsort(importance)[::-1]\n",
    "for f in range(x.shape[1]):\n",
    "    print(\"%2d) %-*s %f\" % (f + 1, 30, feat_labels[indices[f]], importance[indices[f]]))"
   ]
  }
 ],
 "metadata": {
  "kernelspec": {
   "display_name": "Python 3 (ipykernel)",
   "language": "python",
   "name": "python3"
  },
  "language_info": {
   "codemirror_mode": {
    "name": "ipython",
    "version": 3
   },
   "file_extension": ".py",
   "mimetype": "text/x-python",
   "name": "python",
   "nbconvert_exporter": "python",
   "pygments_lexer": "ipython3",
   "version": "3.9.12"
  }
 },
 "nbformat": 4,
 "nbformat_minor": 1
}
