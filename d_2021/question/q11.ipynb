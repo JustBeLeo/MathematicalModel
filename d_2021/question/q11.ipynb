{
 "cells": [
  {
   "cell_type": "code",
   "execution_count": 3,
   "metadata": {
    "collapsed": false,
    "pycharm": {
     "name": "#%%\n"
    }
   },
   "outputs": [],
   "source": [
    "import os\n",
    "\n",
    "from d_2021.config.path import *\n",
    "from d_2021.utils.import_utils import *\n",
    "from d_2021.utils.math_utils import *\n",
    "from d_2021.utils.common_utils import *\n",
    "\n",
    "from tqdm import *\n",
    "import pandas as pd"
   ]
  },
  {
   "cell_type": "markdown",
   "source": [
    "# 第一步：数据清洗"
   ],
   "metadata": {
    "collapsed": false,
    "pycharm": {
     "name": "#%% md\n"
    }
   }
  },
  {
   "cell_type": "code",
   "execution_count": 4,
   "metadata": {
    "collapsed": false,
    "pycharm": {
     "name": "#%%\n"
    }
   },
   "outputs": [],
   "source": [
    "def data_pre_threat():\n",
    "    if os.path.exists(md_df_path):\n",
    "        md_df_3 = pd.read_csv(md_df_path)\n",
    "        md_names = md_df_3.columns.tolist()\n",
    "    else:\n",
    "        md_names, md_df = get_objs_in_csv(\"../dataset/train/Molecular_Descriptor.csv\")\n",
    "        print('总特征数:', len(md_names) - 1)\n",
    "        error_names = []\n",
    "        # 使用箱线法去除异常值出现大于100次的列\n",
    "        for md_name in md_names[1:]:\n",
    "            row = md_df[md_name].tolist()\n",
    "            # row = str_list_2_int(row)\n",
    "            min_num, Q1, Q2, Q3, max_num = get_box_plot(row, md_name, False)\n",
    "            # 计算异常值数量\n",
    "            error_count = 0\n",
    "            for i in range(len(row)):\n",
    "                cell = md_df[md_name][i]\n",
    "                if cell < min_num:\n",
    "                    error_count += 1\n",
    "                    md_df.loc[i, md_name] = min_num\n",
    "                if cell > max_num:\n",
    "                    error_count += 1\n",
    "                    md_df.loc[i, md_name] = max_num\n",
    "            if error_count > 100:\n",
    "                error_names.append(md_name)\n",
    "        print('异常值数量:', len(error_names))\n",
    "        md_df_2 = remove_names(md_df, md_names, error_names)\n",
    "        # 含0大于0.9的列\n",
    "        zero_names = []\n",
    "        # 计算列内含0大于90%的列\n",
    "        for md_name in md_names[1:]:\n",
    "            row = md_df_2[md_name]\n",
    "            p = count_zero(row)\n",
    "            if p > 0.9:\n",
    "                zero_names.append(md_name)\n",
    "        print('0值大于90%数量:', len(zero_names))\n",
    "        md_df_3 = remove_names(md_df_2, md_names, zero_names)\n",
    "        print('筛选后总数', len(md_names) - 1)\n",
    "        md_df_3.to_csv(md_df_path, index=False)\n",
    "    return md_df_3, md_names"
   ]
  },
  {
   "cell_type": "code",
   "execution_count": 5,
   "metadata": {
    "collapsed": false,
    "pycharm": {
     "name": "#%%\n"
    }
   },
   "outputs": [
    {
     "name": "stdout",
     "output_type": "stream",
     "text": [
      "总特征数: 729\n",
      "异常值数量: 155\n",
      "0值大于90%数量: 327\n",
      "筛选后总数 247\n"
     ]
    },
    {
     "data": {
      "text/plain": "                                                 SMILES   ALogP       AMR  \\\n0     Oc1ccc2O[C@H]([C@H](Sc2c1)C3CCCC3)c4ccc(OCCN5C... -0.2860  126.1188   \n1     Oc1ccc2O[C@H]([C@H](Sc2c1)C3CCCCCC3)c4ccc(OCCN... -0.8620  131.9420   \n2     Oc1ccc(cc1)[C@H]2Sc3cc(O)ccc3O[C@H]2c4ccc(OCCN...  0.7296  139.9304   \n3     Oc1ccc2O[C@H]([C@@H](CC3CCCCC3)Sc2c1)c4ccc(OCC... -0.3184  133.4822   \n4     Oc1ccc2O[C@H]([C@@H](Cc3ccccc3)Sc2c1)c4ccc(OCC...  1.3551  143.1903   \n...                                                 ...     ...       ...   \n1969  COc1cc(OC)cc(\\C=C\\c2cccc(OS(=O)(=O)C3CC4OC3C(=...  1.8193  177.6817   \n1970  Oc1ccc(cc1)C2=C(C3OC2CC3S(=O)(=O)Oc4cccc(\\C=C\\...  1.6903  167.6057   \n1971  Oc1ccc(cc1)C2=C(C3OC2CC3S(=O)(=O)Oc4ccc(\\C=C\\c...  1.6903  167.6057   \n1972  Oc1ccc(cc1)C2=C([C@H]3O[C@H]2C[C@@H]3S(=O)(=O)...  1.3365  125.5605   \n1973  COc1cc(OC)cc(\\C=C\\c2ccc(OS(=O)(=O)[C@H]3C[C@H]...  1.8193  177.6817   \n\n           apol  naAromAtom  nAromBond  nAtom  nHeavyAtom    nH    nC  ...  \\\n0     74.170169        12.0       12.0   64.0        31.0  33.0  26.0  ...   \n1     80.357341        12.0       12.0   70.0        33.0  37.0  28.0  ...   \n2     74.064997        18.0       18.0   62.0        33.0  29.0  27.0  ...   \n3     80.357341        12.0       12.0   70.0        33.0  37.0  28.0  ...   \n4     76.356583        18.0       18.0   64.0        33.0  31.0  28.0  ...   \n...         ...         ...        ...    ...         ...   ...   ...  ...   \n1969  89.159790        24.0       24.0   73.0        43.0  30.0  34.0  ...   \n1970  82.972618        24.0       24.0   67.0        41.0  26.0  32.0  ...   \n1971  82.972618        24.0       24.0   67.0        41.0  26.0  32.0  ...   \n1972  63.287860        18.0       18.0   51.0        31.0  20.0  24.0  ...   \n1973  89.159790        24.0       24.0   73.0        43.0  30.0  34.0  ...   \n\n              MW     WTPT-1    WTPT-2     WTPT-3     WTPT-4    WTPT-5   WPATH  \\\n0     439.218115  64.771680  2.089409  15.471445   8.858910  3.406628  3011.0   \n1     467.249415  68.960024  2.089698  15.486947   8.863774  3.406648  3516.0   \n2     463.181729  68.748923  2.083301  18.011114  11.390412  3.406644  3542.0   \n3     467.249415  68.883696  2.087385  15.468365   8.857943  3.406624  3594.0   \n4     461.202465  68.883696  2.087385  15.468365   8.857943  3.406624  3594.0   \n...          ...        ...       ...        ...        ...       ...     ...   \n1969  598.166139  88.709996  2.063023  25.470481  20.590936  0.000000  7121.0   \n1970  570.134839  84.662088  2.064929  24.928962  20.590936  0.000000  6171.0   \n1971  570.134839  84.660642  2.064894  24.923083  20.590936  0.000000  6421.0   \n1972  436.098059  64.171346  2.070043  19.841924  16.326873  0.000000  2583.0   \n1973  598.166139  88.708522  2.062989  25.464529  20.590936  0.000000  7421.0   \n\n      WPOL  XLogP  Zagreb  \n0     47.0  4.666   166.0  \n1     54.0  5.804   174.0  \n2     52.0  2.964   176.0  \n3     50.0  6.015   174.0  \n4     50.0  4.462   174.0  \n...    ...    ...     ...  \n1969  70.0  2.526   236.0  \n1970  66.0  1.884   228.0  \n1971  66.0  1.884   228.0  \n1972  50.0  0.782   174.0  \n1973  70.0  2.526   236.0  \n\n[1974 rows x 248 columns]",
      "text/html": "<div>\n<style scoped>\n    .dataframe tbody tr th:only-of-type {\n        vertical-align: middle;\n    }\n\n    .dataframe tbody tr th {\n        vertical-align: top;\n    }\n\n    .dataframe thead th {\n        text-align: right;\n    }\n</style>\n<table border=\"1\" class=\"dataframe\">\n  <thead>\n    <tr style=\"text-align: right;\">\n      <th></th>\n      <th>SMILES</th>\n      <th>ALogP</th>\n      <th>AMR</th>\n      <th>apol</th>\n      <th>naAromAtom</th>\n      <th>nAromBond</th>\n      <th>nAtom</th>\n      <th>nHeavyAtom</th>\n      <th>nH</th>\n      <th>nC</th>\n      <th>...</th>\n      <th>MW</th>\n      <th>WTPT-1</th>\n      <th>WTPT-2</th>\n      <th>WTPT-3</th>\n      <th>WTPT-4</th>\n      <th>WTPT-5</th>\n      <th>WPATH</th>\n      <th>WPOL</th>\n      <th>XLogP</th>\n      <th>Zagreb</th>\n    </tr>\n  </thead>\n  <tbody>\n    <tr>\n      <th>0</th>\n      <td>Oc1ccc2O[C@H]([C@H](Sc2c1)C3CCCC3)c4ccc(OCCN5C...</td>\n      <td>-0.2860</td>\n      <td>126.1188</td>\n      <td>74.170169</td>\n      <td>12.0</td>\n      <td>12.0</td>\n      <td>64.0</td>\n      <td>31.0</td>\n      <td>33.0</td>\n      <td>26.0</td>\n      <td>...</td>\n      <td>439.218115</td>\n      <td>64.771680</td>\n      <td>2.089409</td>\n      <td>15.471445</td>\n      <td>8.858910</td>\n      <td>3.406628</td>\n      <td>3011.0</td>\n      <td>47.0</td>\n      <td>4.666</td>\n      <td>166.0</td>\n    </tr>\n    <tr>\n      <th>1</th>\n      <td>Oc1ccc2O[C@H]([C@H](Sc2c1)C3CCCCCC3)c4ccc(OCCN...</td>\n      <td>-0.8620</td>\n      <td>131.9420</td>\n      <td>80.357341</td>\n      <td>12.0</td>\n      <td>12.0</td>\n      <td>70.0</td>\n      <td>33.0</td>\n      <td>37.0</td>\n      <td>28.0</td>\n      <td>...</td>\n      <td>467.249415</td>\n      <td>68.960024</td>\n      <td>2.089698</td>\n      <td>15.486947</td>\n      <td>8.863774</td>\n      <td>3.406648</td>\n      <td>3516.0</td>\n      <td>54.0</td>\n      <td>5.804</td>\n      <td>174.0</td>\n    </tr>\n    <tr>\n      <th>2</th>\n      <td>Oc1ccc(cc1)[C@H]2Sc3cc(O)ccc3O[C@H]2c4ccc(OCCN...</td>\n      <td>0.7296</td>\n      <td>139.9304</td>\n      <td>74.064997</td>\n      <td>18.0</td>\n      <td>18.0</td>\n      <td>62.0</td>\n      <td>33.0</td>\n      <td>29.0</td>\n      <td>27.0</td>\n      <td>...</td>\n      <td>463.181729</td>\n      <td>68.748923</td>\n      <td>2.083301</td>\n      <td>18.011114</td>\n      <td>11.390412</td>\n      <td>3.406644</td>\n      <td>3542.0</td>\n      <td>52.0</td>\n      <td>2.964</td>\n      <td>176.0</td>\n    </tr>\n    <tr>\n      <th>3</th>\n      <td>Oc1ccc2O[C@H]([C@@H](CC3CCCCC3)Sc2c1)c4ccc(OCC...</td>\n      <td>-0.3184</td>\n      <td>133.4822</td>\n      <td>80.357341</td>\n      <td>12.0</td>\n      <td>12.0</td>\n      <td>70.0</td>\n      <td>33.0</td>\n      <td>37.0</td>\n      <td>28.0</td>\n      <td>...</td>\n      <td>467.249415</td>\n      <td>68.883696</td>\n      <td>2.087385</td>\n      <td>15.468365</td>\n      <td>8.857943</td>\n      <td>3.406624</td>\n      <td>3594.0</td>\n      <td>50.0</td>\n      <td>6.015</td>\n      <td>174.0</td>\n    </tr>\n    <tr>\n      <th>4</th>\n      <td>Oc1ccc2O[C@H]([C@@H](Cc3ccccc3)Sc2c1)c4ccc(OCC...</td>\n      <td>1.3551</td>\n      <td>143.1903</td>\n      <td>76.356583</td>\n      <td>18.0</td>\n      <td>18.0</td>\n      <td>64.0</td>\n      <td>33.0</td>\n      <td>31.0</td>\n      <td>28.0</td>\n      <td>...</td>\n      <td>461.202465</td>\n      <td>68.883696</td>\n      <td>2.087385</td>\n      <td>15.468365</td>\n      <td>8.857943</td>\n      <td>3.406624</td>\n      <td>3594.0</td>\n      <td>50.0</td>\n      <td>4.462</td>\n      <td>174.0</td>\n    </tr>\n    <tr>\n      <th>...</th>\n      <td>...</td>\n      <td>...</td>\n      <td>...</td>\n      <td>...</td>\n      <td>...</td>\n      <td>...</td>\n      <td>...</td>\n      <td>...</td>\n      <td>...</td>\n      <td>...</td>\n      <td>...</td>\n      <td>...</td>\n      <td>...</td>\n      <td>...</td>\n      <td>...</td>\n      <td>...</td>\n      <td>...</td>\n      <td>...</td>\n      <td>...</td>\n      <td>...</td>\n      <td>...</td>\n    </tr>\n    <tr>\n      <th>1969</th>\n      <td>COc1cc(OC)cc(\\C=C\\c2cccc(OS(=O)(=O)C3CC4OC3C(=...</td>\n      <td>1.8193</td>\n      <td>177.6817</td>\n      <td>89.159790</td>\n      <td>24.0</td>\n      <td>24.0</td>\n      <td>73.0</td>\n      <td>43.0</td>\n      <td>30.0</td>\n      <td>34.0</td>\n      <td>...</td>\n      <td>598.166139</td>\n      <td>88.709996</td>\n      <td>2.063023</td>\n      <td>25.470481</td>\n      <td>20.590936</td>\n      <td>0.000000</td>\n      <td>7121.0</td>\n      <td>70.0</td>\n      <td>2.526</td>\n      <td>236.0</td>\n    </tr>\n    <tr>\n      <th>1970</th>\n      <td>Oc1ccc(cc1)C2=C(C3OC2CC3S(=O)(=O)Oc4cccc(\\C=C\\...</td>\n      <td>1.6903</td>\n      <td>167.6057</td>\n      <td>82.972618</td>\n      <td>24.0</td>\n      <td>24.0</td>\n      <td>67.0</td>\n      <td>41.0</td>\n      <td>26.0</td>\n      <td>32.0</td>\n      <td>...</td>\n      <td>570.134839</td>\n      <td>84.662088</td>\n      <td>2.064929</td>\n      <td>24.928962</td>\n      <td>20.590936</td>\n      <td>0.000000</td>\n      <td>6171.0</td>\n      <td>66.0</td>\n      <td>1.884</td>\n      <td>228.0</td>\n    </tr>\n    <tr>\n      <th>1971</th>\n      <td>Oc1ccc(cc1)C2=C(C3OC2CC3S(=O)(=O)Oc4ccc(\\C=C\\c...</td>\n      <td>1.6903</td>\n      <td>167.6057</td>\n      <td>82.972618</td>\n      <td>24.0</td>\n      <td>24.0</td>\n      <td>67.0</td>\n      <td>41.0</td>\n      <td>26.0</td>\n      <td>32.0</td>\n      <td>...</td>\n      <td>570.134839</td>\n      <td>84.660642</td>\n      <td>2.064894</td>\n      <td>24.923083</td>\n      <td>20.590936</td>\n      <td>0.000000</td>\n      <td>6421.0</td>\n      <td>66.0</td>\n      <td>1.884</td>\n      <td>228.0</td>\n    </tr>\n    <tr>\n      <th>1972</th>\n      <td>Oc1ccc(cc1)C2=C([C@H]3O[C@H]2C[C@@H]3S(=O)(=O)...</td>\n      <td>1.3365</td>\n      <td>125.5605</td>\n      <td>63.287860</td>\n      <td>18.0</td>\n      <td>18.0</td>\n      <td>51.0</td>\n      <td>31.0</td>\n      <td>20.0</td>\n      <td>24.0</td>\n      <td>...</td>\n      <td>436.098059</td>\n      <td>64.171346</td>\n      <td>2.070043</td>\n      <td>19.841924</td>\n      <td>16.326873</td>\n      <td>0.000000</td>\n      <td>2583.0</td>\n      <td>50.0</td>\n      <td>0.782</td>\n      <td>174.0</td>\n    </tr>\n    <tr>\n      <th>1973</th>\n      <td>COc1cc(OC)cc(\\C=C\\c2ccc(OS(=O)(=O)[C@H]3C[C@H]...</td>\n      <td>1.8193</td>\n      <td>177.6817</td>\n      <td>89.159790</td>\n      <td>24.0</td>\n      <td>24.0</td>\n      <td>73.0</td>\n      <td>43.0</td>\n      <td>30.0</td>\n      <td>34.0</td>\n      <td>...</td>\n      <td>598.166139</td>\n      <td>88.708522</td>\n      <td>2.062989</td>\n      <td>25.464529</td>\n      <td>20.590936</td>\n      <td>0.000000</td>\n      <td>7421.0</td>\n      <td>70.0</td>\n      <td>2.526</td>\n      <td>236.0</td>\n    </tr>\n  </tbody>\n</table>\n<p>1974 rows × 248 columns</p>\n</div>"
     },
     "execution_count": 5,
     "metadata": {},
     "output_type": "execute_result"
    }
   ],
   "source": [
    "pre_threat_df, pre_threat_names = data_pre_threat()\n",
    "pre_threat_df"
   ]
  },
  {
   "cell_type": "markdown",
   "source": [
    "# 第二步：灰色关联度分析"
   ],
   "metadata": {
    "collapsed": false,
    "pycharm": {
     "name": "#%% md\n"
    }
   }
  },
  {
   "cell_type": "code",
   "execution_count": 6,
   "metadata": {
    "collapsed": false,
    "pycharm": {
     "name": "#%%\n"
    }
   },
   "outputs": [],
   "source": [
    "def get_sequence(m_df, names, csv_path):\n",
    "    \"\"\"\n",
    "    得到计算好的序列\n",
    "    :param m_df: 数据表\n",
    "    :param names: 名称\n",
    "    :param csv_path: 路径\n",
    "    :return: 处理好的序列\n",
    "    \"\"\"\n",
    "    if os.path.exists(csv_path):\n",
    "        sequence = pd.read_csv(csv_path)\n",
    "    else:\n",
    "        sequence = get_sequence_divide_mean(m_df, names)\n",
    "        sequence.to_csv(csv_path, index=False)\n",
    "    return sequence"
   ]
  },
  {
   "cell_type": "code",
   "execution_count": 7,
   "metadata": {
    "collapsed": false,
    "pycharm": {
     "name": "#%%\n"
    }
   },
   "outputs": [],
   "source": [
    "def get_mean_sequence():\n",
    "    era_names, era_df = get_objs_in_csv(\"../dataset/train/ERa_activity.csv\")\n",
    "    # 得到母序列均值商\n",
    "    parent = get_sequence(era_df, ['pIC50'], csv1_path)\n",
    "    # 得到子序列均值商\n",
    "    child_names1 = pre_threat_names[1:]\n",
    "    child = get_sequence(pre_threat_df, child_names1, csv2_path)\n",
    "    return parent, child, child_names1"
   ]
  },
  {
   "cell_type": "markdown",
   "source": [
    "## 指标正向化，确定分析数列，变量预处理"
   ],
   "metadata": {
    "collapsed": false,
    "pycharm": {
     "name": "#%% md\n"
    }
   }
  },
  {
   "cell_type": "code",
   "execution_count": 8,
   "metadata": {
    "collapsed": false,
    "pycharm": {
     "name": "#%%\n"
    }
   },
   "outputs": [
    {
     "name": "stderr",
     "output_type": "stream",
     "text": [
      "100%|██████████| 1/1 [00:00<00:00, 15.28it/s]\n",
      "100%|██████████| 247/247 [00:16<00:00, 15.25it/s]\n"
     ]
    }
   ],
   "source": [
    "parent_sequence, child_sequence, child_names = get_mean_sequence()"
   ]
  },
  {
   "cell_type": "code",
   "execution_count": 9,
   "metadata": {
    "collapsed": false,
    "pycharm": {
     "name": "#%%\n"
    }
   },
   "outputs": [],
   "source": [
    "def cal_ab():\n",
    "    local_min = 100\n",
    "    local_max = 0\n",
    "    for name in pre_threat_names[1:]:\n",
    "        # 对每一个子序列，计算对应值\n",
    "        sequence = child_sequence[name]\n",
    "        for i in range(len(sequence)):\n",
    "            # 每一行的数相减\n",
    "            t = abs(sequence[i] - parent_sequence['pIC50'][i])\n",
    "            if t < local_min:\n",
    "                local_min = t\n",
    "            if t > local_max:\n",
    "                local_max = t\n",
    "    return local_min, local_max"
   ]
  },
  {
   "cell_type": "code",
   "execution_count": 10,
   "metadata": {
    "collapsed": false,
    "pycharm": {
     "name": "#%%\n"
    }
   },
   "outputs": [],
   "source": [
    "a, b = cal_ab()"
   ]
  },
  {
   "cell_type": "markdown",
   "source": [
    "## 计算子序列中各个指标与母序列的关联系数"
   ],
   "metadata": {
    "collapsed": false,
    "pycharm": {
     "name": "#%% md\n"
    }
   }
  },
  {
   "cell_type": "code",
   "execution_count": null,
   "outputs": [],
   "source": [
    "p = 0.5"
   ],
   "metadata": {
    "collapsed": false,
    "pycharm": {
     "name": "#%%\n"
    }
   }
  },
  {
   "cell_type": "code",
   "execution_count": 16,
   "metadata": {
    "collapsed": false,
    "pycharm": {
     "name": "#%%\n"
    }
   },
   "outputs": [],
   "source": [
    "def cal_relevancy():\n",
    "    copy_child = child_sequence.copy()\n",
    "    if os.path.exists(csv3_path):\n",
    "        copy_child = pd.read_csv(csv3_path)\n",
    "    else:\n",
    "        for name in tqdm(child_names):\n",
    "            # 对每一个子序列，计算对应值\n",
    "            sequence = copy_child[name]\n",
    "            for i in range(len(sequence)):\n",
    "                # 计算关联度\n",
    "                sequence[i] = (a + p * b) / (abs(sequence[i] - parent_sequence['pIC50'][i]) + p * b)\n",
    "        copy_child.to_csv(csv3_path, index=False)\n",
    "    return copy_child"
   ]
  },
  {
   "cell_type": "code",
   "execution_count": 17,
   "metadata": {
    "collapsed": false,
    "pycharm": {
     "name": "#%%\n"
    }
   },
   "outputs": [],
   "source": [
    "relevancy_df = cal_relevancy()"
   ]
  },
  {
   "cell_type": "code",
   "execution_count": 53,
   "metadata": {
    "collapsed": false,
    "pycharm": {
     "name": "#%%\n"
    }
   },
   "outputs": [],
   "source": [
    "def cal_relevancy_mean(m_df: pd.DataFrame):\n",
    "    obj_list = {}\n",
    "    for name in tqdm(child_names):\n",
    "        # 对每一个子序列，计算平均值\n",
    "        m_mean = m_df[name].mean()\n",
    "        obj_list[name] = m_mean\n",
    "    # t_df = pd.DataFrame(obj_list)\n",
    "    return obj_list"
   ]
  },
  {
   "cell_type": "code",
   "execution_count": 54,
   "outputs": [
    {
     "name": "stderr",
     "output_type": "stream",
     "text": [
      "100%|██████████| 247/247 [00:00<00:00, 54342.90it/s]\n"
     ]
    }
   ],
   "source": [
    "relevancy_mean_df = cal_relevancy_mean(relevancy_df)"
   ],
   "metadata": {
    "collapsed": false,
    "pycharm": {
     "name": "#%%\n"
    }
   }
  },
  {
   "cell_type": "code",
   "execution_count": 55,
   "outputs": [],
   "source": [
    "t_relevancy_mean_df = sorted(relevancy_mean_df.items(), key=lambda x: x[1], reverse=True)"
   ],
   "metadata": {
    "collapsed": false,
    "pycharm": {
     "name": "#%%\n"
    }
   }
  },
  {
   "cell_type": "markdown",
   "source": [
    "获取灰色关联度前三十个"
   ],
   "metadata": {
    "collapsed": false,
    "pycharm": {
     "name": "#%% md\n"
    }
   }
  },
  {
   "cell_type": "code",
   "execution_count": 57,
   "outputs": [
    {
     "data": {
      "text/plain": "['BCUTp-1h',\n 'MLogP',\n 'VAdjMat',\n 'maxaaCH',\n 'ETA_Psi_1',\n 'WTPT-2',\n 'ETA_Epsilon_3',\n 'PetitjeanNumber',\n 'maxwHBa',\n 'ETA_BetaP_s',\n 'ETA_Epsilon_5',\n 'ETA_Epsilon_2',\n 'AMR',\n 'SP-2',\n 'Zagreb',\n 'SP-3',\n 'CrippenMR',\n 'ETA_Alpha',\n 'SP-0',\n 'nC',\n 'nBonds',\n 'nHeavyAtom',\n 'ETA_Epsilon_4',\n 'WTPT-1',\n 'MW',\n 'SP-1',\n 'ETA_Eta_R_L',\n 'BCUTp-1l',\n 'SP-4',\n 'CrippenLogP',\n 'SP-5',\n 'WPOL',\n 'ETA_EtaP_L',\n 'VP-0',\n 'minaaCH',\n 'MLFER_L',\n 'McGowan_Volume',\n 'ATSm3',\n 'VABC',\n 'ETA_EtaP',\n 'sumI',\n 'ETA_Epsilon_1',\n 'ETA_Beta',\n 'apol',\n 'ATSm2',\n 'ATSm4',\n 'ETA_Beta_s',\n 'VP-1',\n 'Kier1',\n 'MLFER_E',\n 'ATSp1',\n 'minHother',\n 'ATSp2',\n 'ETA_BetaP',\n 'VP-2',\n 'nRing',\n 'minHaaCH',\n 'maxHother',\n 'maxHaaCH',\n 'SP-6',\n 'ETA_Eta_B_RC',\n 'nBonds2',\n 'nwHBa',\n 'nAtom',\n 'gmax',\n 'maxHBa',\n 'ATSp3',\n 'SPC-4',\n 'ATSm5',\n 'ETA_Shape_Y',\n 'ETA_Beta_ns',\n 'MDEC-23',\n 'FMF',\n 'ETA_Eta_F_L',\n 'naAromAtom',\n 'VP-3',\n 'ATSp4',\n 'nBondsD',\n 'ETA_Eta_R',\n 'C2SP2',\n 'n6Ring',\n 'nBondsM',\n 'ETA_EtaP_F_L',\n 'nBondsS',\n 'SP-7',\n 'maxaasC',\n 'SPC-5',\n 'MLFER_S',\n 'nT6Ring',\n 'ETA_EtaP_B_RC',\n 'ETA_Eta_L',\n 'nAromBond',\n 'Kier2',\n 'LipoaffinityIndex',\n 'naasC',\n 'SPC-6',\n 'ATSm1',\n 'VP-4',\n 'ATSp5',\n 'MAXDP2',\n 'ETA_Eta_F',\n 'MAXDP',\n 'VC-3',\n 'ETA_BetaP_ns',\n 'bpol',\n 'ETA_Eta',\n 'nHother',\n 'VP-5',\n 'SwHBa',\n 'nH',\n 'VPC-4',\n 'nHaaCH',\n 'naaCH',\n 'SHaaCH',\n 'SHother',\n 'Kier3',\n 'MLFER_BO',\n 'nBondsS2',\n 'MLFER_BH',\n 'nHBAcc3',\n 'MDEC-33',\n 'nHBa',\n 'SaaCH',\n 'VP-6',\n 'SCH-7',\n 'VPC-5',\n 'XLogP',\n 'SCH-6',\n 'nHBAcc_Lipinski',\n 'WTPT-3',\n 'DELS',\n 'nHBAcc2',\n 'ETA_Eta_B',\n 'ETA_dPsi_A',\n 'TopoPSA',\n 'nAtomP',\n 'nBondsS3',\n 'nHBDon',\n 'nHBd',\n 'VPC-6',\n 'ECCEN',\n 'nHBDon_Lipinski',\n 'SHBa',\n 'C3SP2',\n 'nO',\n 'VP-7',\n 'ETA_EtaP_B',\n 'ATSc1',\n 'WTPT-4',\n 'ETA_dEpsilon_A',\n 'ETA_dEpsilon_B',\n 'ETA_Beta_ns_d',\n 'SC-5',\n 'SHBd',\n 'minHsOH',\n 'BCUTc-1h',\n 'SaasC',\n 'MLFER_A',\n 'fragC',\n 'ETA_dEpsilon_C',\n 'VCH-6',\n 'MDEC-22',\n 'ETA_Shape_P',\n 'ETA_dEpsilon_D',\n 'ATSc2',\n 'ETA_BetaP_ns_d',\n 'nRotB',\n 'SsOH',\n 'WPATH',\n 'nHsOH',\n 'nsOH',\n 'ETA_dAlpha_B',\n 'SHsOH',\n 'HybRatio',\n 'maxHCsats',\n 'maxssCH2',\n 'nAtomLC',\n 'minHCsats',\n 'nHBAcc',\n 'C1SP3',\n 'SHCsats',\n 'nHCsats',\n 'nssCH2',\n 'maxsCH3',\n 'minsCH3',\n 'WTPT-5',\n 'minssCH2',\n 'nAtomLAC',\n 'MDEC-12',\n 'ALogP',\n 'C2SP3',\n 'nBondsD2',\n 'nsCH3',\n 'MDEC-13',\n 'SsCH3',\n 'SssCH2',\n 'n5Ring',\n 'nT5Ring',\n 'ndssC',\n 'SCH-5',\n 'minssO',\n 'maxssO',\n 'minHBa',\n 'MDEO-12',\n 'MDEO-11',\n 'nHBint10',\n 'VCH-5',\n 'nF10Ring',\n 'nT10Ring',\n 'maxHBint10',\n 'ndO',\n 'SdO',\n 'minHBint10',\n 'mindO',\n 'maxdO',\n 'nsssN',\n 'SsssN',\n 'nHBint6',\n 'minsssN',\n 'maxsssN',\n 'SHBint10',\n 'nF9Ring',\n 'nT9Ring',\n 'nBase',\n 'SHCsatu',\n 'nHCsatu',\n 'nHBint5',\n 'nHBint7',\n 'maxHCsatu',\n 'minHCsatu',\n 'maxHBint6',\n 'naaaC',\n 'maxHBint7',\n 'SaaaC',\n 'maxaaaC',\n 'minaaaC',\n 'maxdssC',\n 'nX',\n 'maxHBint4',\n 'nS',\n 'nHBint8',\n 'hmin',\n 'ETA_dBetaP',\n 'ETA_dBeta',\n 'ATSc3',\n 'minwHBa',\n 'ATSc4']"
     },
     "execution_count": 57,
     "metadata": {},
     "output_type": "execute_result"
    }
   ],
   "source": [
    "gray_name = []\n",
    "for t in t_relevancy_mean_df:\n",
    "    gray_name.append(t[0])"
   ],
   "metadata": {
    "collapsed": false,
    "pycharm": {
     "name": "#%%\n"
    }
   }
  },
  {
   "cell_type": "code",
   "execution_count": null,
   "outputs": [],
   "source": [
    "from scipy import *\n"
   ],
   "metadata": {
    "collapsed": false,
    "pycharm": {
     "name": "#%%\n"
    }
   }
  }
 ],
 "metadata": {
  "kernelspec": {
   "display_name": "Python 3.10.4 64-bit ('py310')",
   "language": "python",
   "name": "python3"
  },
  "language_info": {
   "codemirror_mode": {
    "name": "ipython",
    "version": 3
   },
   "file_extension": ".py",
   "mimetype": "text/x-python",
   "name": "python",
   "nbconvert_exporter": "python",
   "pygments_lexer": "ipython3",
   "version": "3.10.4"
  },
  "vscode": {
   "interpreter": {
    "hash": "d868c725285a4c28b31f35b72ce7912464b17da2c8e468dd6d9b66ab40e07315"
   }
  }
 },
 "nbformat": 4,
 "nbformat_minor": 0
}