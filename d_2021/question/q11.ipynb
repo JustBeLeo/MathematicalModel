{
 "cells": [
  {
   "cell_type": "code",
   "execution_count": 1,
   "outputs": [],
   "source": [
    "import os\n",
    "\n",
    "from d_2021.config.path import *\n",
    "from d_2021.utils.import_utils import *\n",
    "from d_2021.utils.math_utils import *\n",
    "from d_2021.utils.common_utils import *\n",
    "from tqdm import *\n",
    "import pandas as pd"
   ],
   "metadata": {
    "collapsed": false,
    "pycharm": {
     "name": "#%%\n"
    }
   }
  },
  {
   "cell_type": "code",
   "execution_count": 2,
   "outputs": [],
   "source": [
    "def data_pre_threat():\n",
    "    if os.path.exists(md_df_path):\n",
    "        md_df_3 = pd.read_csv(md_df_path)\n",
    "        md_names = md_df_3.columns.tolist()\n",
    "    else:\n",
    "        md_names, md_df = get_objs_in_csv(\"../dataset/train/Molecular_Descriptor.csv\")\n",
    "        print('总特征数:', len(md_names) - 1)\n",
    "        error_names = []\n",
    "        # 使用箱线法去除异常值出现大于100次的列\n",
    "        for md_name in md_names[1:]:\n",
    "            row = md_df[md_name].tolist()\n",
    "            # row = str_list_2_int(row)\n",
    "            min_num, Q1, Q2, Q3, max_num = get_box_plot(row, md_name, False)\n",
    "            # 计算异常值数量\n",
    "            error_count = 0\n",
    "            for i in range(len(row)):\n",
    "                cell = md_df[md_name][i]\n",
    "                if cell < min_num:\n",
    "                    error_count += 1\n",
    "                    md_df.loc[i, md_name] = min_num\n",
    "                if cell > max_num:\n",
    "                    error_count += 1\n",
    "                    md_df.loc[i, md_name] = max_num\n",
    "            if error_count > 100:\n",
    "                error_names.append(md_name)\n",
    "        print('异常值数量:', len(error_names))\n",
    "        md_df_2 = remove_names(md_df, md_names, error_names)\n",
    "        # 含0大于0.9的列\n",
    "        zero_names = []\n",
    "        # 计算列内含0大于90%的列\n",
    "        for md_name in md_names[1:]:\n",
    "            row = md_df_2[md_name]\n",
    "            p = count_zero(row)\n",
    "            if p > 0.9:\n",
    "                zero_names.append(md_name)\n",
    "        print('0值大于90%数量:', len(zero_names))\n",
    "        md_df_3 = remove_names(md_df, md_names, zero_names)\n",
    "        print('筛选后总数', len(md_names) - 1)\n",
    "        md_df_3.to_csv(md_df_path, index=False)\n",
    "    return md_df_3, md_names"
   ],
   "metadata": {
    "collapsed": false,
    "pycharm": {
     "name": "#%%\n"
    }
   }
  },
  {
   "cell_type": "code",
   "execution_count": 3,
   "outputs": [
    {
     "data": {
      "text/plain": "                                                 SMILES  nAcid   ALogP  \\\n0     Oc1ccc2O[C@H]([C@H](Sc2c1)C3CCCC3)c4ccc(OCCN5C...    0.0 -0.2860   \n1     Oc1ccc2O[C@H]([C@H](Sc2c1)C3CCCCCC3)c4ccc(OCCN...    0.0 -0.8620   \n2     Oc1ccc(cc1)[C@H]2Sc3cc(O)ccc3O[C@H]2c4ccc(OCCN...    0.0  0.7296   \n3     Oc1ccc2O[C@H]([C@@H](CC3CCCCC3)Sc2c1)c4ccc(OCC...    0.0 -0.3184   \n4     Oc1ccc2O[C@H]([C@@H](Cc3ccccc3)Sc2c1)c4ccc(OCC...    0.0  1.3551   \n...                                                 ...    ...     ...   \n1969  COc1cc(OC)cc(\\C=C\\c2cccc(OS(=O)(=O)C3CC4OC3C(=...    0.0  1.8193   \n1970  Oc1ccc(cc1)C2=C(C3OC2CC3S(=O)(=O)Oc4cccc(\\C=C\\...    0.0  1.6903   \n1971  Oc1ccc(cc1)C2=C(C3OC2CC3S(=O)(=O)Oc4ccc(\\C=C\\c...    0.0  1.6903   \n1972  Oc1ccc(cc1)C2=C([C@H]3O[C@H]2C[C@@H]3S(=O)(=O)...    0.0  1.3365   \n1973  COc1cc(OC)cc(\\C=C\\c2ccc(OS(=O)(=O)[C@H]3C[C@H]...    0.0  1.8193   \n\n        ALogp2       AMR       apol  naAromAtom  nAromBond  nAtom  nHeavyAtom  \\\n0     0.081796  126.1188  74.170169        12.0       12.0   64.0        31.0   \n1     0.743044  131.9420  80.357341        12.0       12.0   70.0        33.0   \n2     0.532316  139.9304  74.064997        18.0       18.0   62.0        33.0   \n3     0.101379  133.4822  80.357341        12.0       12.0   70.0        33.0   \n4     1.836296  143.1903  76.356583        18.0       18.0   64.0        33.0   \n...        ...       ...        ...         ...        ...    ...         ...   \n1969  3.309852  177.6817  89.159790        24.0       24.0   73.0        43.0   \n1970  2.857114  167.6057  82.972618        24.0       24.0   67.0        41.0   \n1971  2.857114  167.6057  82.972618        24.0       24.0   67.0        41.0   \n1972  1.786232  125.5605  63.287860        18.0       18.0   51.0        31.0   \n1973  3.309852  177.6817  89.159790        24.0       24.0   73.0        43.0   \n\n      ...          MW     WTPT-1    WTPT-2     WTPT-3     WTPT-4    WTPT-5  \\\n0     ...  439.218115  64.771680  2.089409  15.471445   8.858910  3.406628   \n1     ...  467.249415  68.960024  2.089698  15.486947   8.863774  3.406648   \n2     ...  463.181729  68.748923  2.083301  18.011114  11.390412  3.406644   \n3     ...  467.249415  68.883696  2.087385  15.468365   8.857943  3.406624   \n4     ...  461.202465  68.883696  2.087385  15.468365   8.857943  3.406624   \n...   ...         ...        ...       ...        ...        ...       ...   \n1969  ...  598.166139  88.709996  2.063023  25.470481  20.590936  0.000000   \n1970  ...  570.134839  84.662088  2.064929  24.928962  20.590936  0.000000   \n1971  ...  570.134839  84.660642  2.064894  24.923083  20.590936  0.000000   \n1972  ...  436.098059  64.171346  2.070043  19.841924  16.326873  0.000000   \n1973  ...  598.166139  88.708522  2.062989  25.464529  20.590936  0.000000   \n\n       WPATH  WPOL  XLogP  Zagreb  \n0     3011.0  47.0  4.666   166.0  \n1     3516.0  54.0  5.804   174.0  \n2     3542.0  52.0  2.964   176.0  \n3     3594.0  50.0  6.015   174.0  \n4     3594.0  50.0  4.462   174.0  \n...      ...   ...    ...     ...  \n1969  7121.0  70.0  2.526   236.0  \n1970  6171.0  66.0  1.884   228.0  \n1971  6421.0  66.0  1.884   228.0  \n1972  2583.0  50.0  0.782   174.0  \n1973  7421.0  70.0  2.526   236.0  \n\n[1974 rows x 403 columns]",
      "text/html": "<div>\n<style scoped>\n    .dataframe tbody tr th:only-of-type {\n        vertical-align: middle;\n    }\n\n    .dataframe tbody tr th {\n        vertical-align: top;\n    }\n\n    .dataframe thead th {\n        text-align: right;\n    }\n</style>\n<table border=\"1\" class=\"dataframe\">\n  <thead>\n    <tr style=\"text-align: right;\">\n      <th></th>\n      <th>SMILES</th>\n      <th>nAcid</th>\n      <th>ALogP</th>\n      <th>ALogp2</th>\n      <th>AMR</th>\n      <th>apol</th>\n      <th>naAromAtom</th>\n      <th>nAromBond</th>\n      <th>nAtom</th>\n      <th>nHeavyAtom</th>\n      <th>...</th>\n      <th>MW</th>\n      <th>WTPT-1</th>\n      <th>WTPT-2</th>\n      <th>WTPT-3</th>\n      <th>WTPT-4</th>\n      <th>WTPT-5</th>\n      <th>WPATH</th>\n      <th>WPOL</th>\n      <th>XLogP</th>\n      <th>Zagreb</th>\n    </tr>\n  </thead>\n  <tbody>\n    <tr>\n      <th>0</th>\n      <td>Oc1ccc2O[C@H]([C@H](Sc2c1)C3CCCC3)c4ccc(OCCN5C...</td>\n      <td>0.0</td>\n      <td>-0.2860</td>\n      <td>0.081796</td>\n      <td>126.1188</td>\n      <td>74.170169</td>\n      <td>12.0</td>\n      <td>12.0</td>\n      <td>64.0</td>\n      <td>31.0</td>\n      <td>...</td>\n      <td>439.218115</td>\n      <td>64.771680</td>\n      <td>2.089409</td>\n      <td>15.471445</td>\n      <td>8.858910</td>\n      <td>3.406628</td>\n      <td>3011.0</td>\n      <td>47.0</td>\n      <td>4.666</td>\n      <td>166.0</td>\n    </tr>\n    <tr>\n      <th>1</th>\n      <td>Oc1ccc2O[C@H]([C@H](Sc2c1)C3CCCCCC3)c4ccc(OCCN...</td>\n      <td>0.0</td>\n      <td>-0.8620</td>\n      <td>0.743044</td>\n      <td>131.9420</td>\n      <td>80.357341</td>\n      <td>12.0</td>\n      <td>12.0</td>\n      <td>70.0</td>\n      <td>33.0</td>\n      <td>...</td>\n      <td>467.249415</td>\n      <td>68.960024</td>\n      <td>2.089698</td>\n      <td>15.486947</td>\n      <td>8.863774</td>\n      <td>3.406648</td>\n      <td>3516.0</td>\n      <td>54.0</td>\n      <td>5.804</td>\n      <td>174.0</td>\n    </tr>\n    <tr>\n      <th>2</th>\n      <td>Oc1ccc(cc1)[C@H]2Sc3cc(O)ccc3O[C@H]2c4ccc(OCCN...</td>\n      <td>0.0</td>\n      <td>0.7296</td>\n      <td>0.532316</td>\n      <td>139.9304</td>\n      <td>74.064997</td>\n      <td>18.0</td>\n      <td>18.0</td>\n      <td>62.0</td>\n      <td>33.0</td>\n      <td>...</td>\n      <td>463.181729</td>\n      <td>68.748923</td>\n      <td>2.083301</td>\n      <td>18.011114</td>\n      <td>11.390412</td>\n      <td>3.406644</td>\n      <td>3542.0</td>\n      <td>52.0</td>\n      <td>2.964</td>\n      <td>176.0</td>\n    </tr>\n    <tr>\n      <th>3</th>\n      <td>Oc1ccc2O[C@H]([C@@H](CC3CCCCC3)Sc2c1)c4ccc(OCC...</td>\n      <td>0.0</td>\n      <td>-0.3184</td>\n      <td>0.101379</td>\n      <td>133.4822</td>\n      <td>80.357341</td>\n      <td>12.0</td>\n      <td>12.0</td>\n      <td>70.0</td>\n      <td>33.0</td>\n      <td>...</td>\n      <td>467.249415</td>\n      <td>68.883696</td>\n      <td>2.087385</td>\n      <td>15.468365</td>\n      <td>8.857943</td>\n      <td>3.406624</td>\n      <td>3594.0</td>\n      <td>50.0</td>\n      <td>6.015</td>\n      <td>174.0</td>\n    </tr>\n    <tr>\n      <th>4</th>\n      <td>Oc1ccc2O[C@H]([C@@H](Cc3ccccc3)Sc2c1)c4ccc(OCC...</td>\n      <td>0.0</td>\n      <td>1.3551</td>\n      <td>1.836296</td>\n      <td>143.1903</td>\n      <td>76.356583</td>\n      <td>18.0</td>\n      <td>18.0</td>\n      <td>64.0</td>\n      <td>33.0</td>\n      <td>...</td>\n      <td>461.202465</td>\n      <td>68.883696</td>\n      <td>2.087385</td>\n      <td>15.468365</td>\n      <td>8.857943</td>\n      <td>3.406624</td>\n      <td>3594.0</td>\n      <td>50.0</td>\n      <td>4.462</td>\n      <td>174.0</td>\n    </tr>\n    <tr>\n      <th>...</th>\n      <td>...</td>\n      <td>...</td>\n      <td>...</td>\n      <td>...</td>\n      <td>...</td>\n      <td>...</td>\n      <td>...</td>\n      <td>...</td>\n      <td>...</td>\n      <td>...</td>\n      <td>...</td>\n      <td>...</td>\n      <td>...</td>\n      <td>...</td>\n      <td>...</td>\n      <td>...</td>\n      <td>...</td>\n      <td>...</td>\n      <td>...</td>\n      <td>...</td>\n      <td>...</td>\n    </tr>\n    <tr>\n      <th>1969</th>\n      <td>COc1cc(OC)cc(\\C=C\\c2cccc(OS(=O)(=O)C3CC4OC3C(=...</td>\n      <td>0.0</td>\n      <td>1.8193</td>\n      <td>3.309852</td>\n      <td>177.6817</td>\n      <td>89.159790</td>\n      <td>24.0</td>\n      <td>24.0</td>\n      <td>73.0</td>\n      <td>43.0</td>\n      <td>...</td>\n      <td>598.166139</td>\n      <td>88.709996</td>\n      <td>2.063023</td>\n      <td>25.470481</td>\n      <td>20.590936</td>\n      <td>0.000000</td>\n      <td>7121.0</td>\n      <td>70.0</td>\n      <td>2.526</td>\n      <td>236.0</td>\n    </tr>\n    <tr>\n      <th>1970</th>\n      <td>Oc1ccc(cc1)C2=C(C3OC2CC3S(=O)(=O)Oc4cccc(\\C=C\\...</td>\n      <td>0.0</td>\n      <td>1.6903</td>\n      <td>2.857114</td>\n      <td>167.6057</td>\n      <td>82.972618</td>\n      <td>24.0</td>\n      <td>24.0</td>\n      <td>67.0</td>\n      <td>41.0</td>\n      <td>...</td>\n      <td>570.134839</td>\n      <td>84.662088</td>\n      <td>2.064929</td>\n      <td>24.928962</td>\n      <td>20.590936</td>\n      <td>0.000000</td>\n      <td>6171.0</td>\n      <td>66.0</td>\n      <td>1.884</td>\n      <td>228.0</td>\n    </tr>\n    <tr>\n      <th>1971</th>\n      <td>Oc1ccc(cc1)C2=C(C3OC2CC3S(=O)(=O)Oc4ccc(\\C=C\\c...</td>\n      <td>0.0</td>\n      <td>1.6903</td>\n      <td>2.857114</td>\n      <td>167.6057</td>\n      <td>82.972618</td>\n      <td>24.0</td>\n      <td>24.0</td>\n      <td>67.0</td>\n      <td>41.0</td>\n      <td>...</td>\n      <td>570.134839</td>\n      <td>84.660642</td>\n      <td>2.064894</td>\n      <td>24.923083</td>\n      <td>20.590936</td>\n      <td>0.000000</td>\n      <td>6421.0</td>\n      <td>66.0</td>\n      <td>1.884</td>\n      <td>228.0</td>\n    </tr>\n    <tr>\n      <th>1972</th>\n      <td>Oc1ccc(cc1)C2=C([C@H]3O[C@H]2C[C@@H]3S(=O)(=O)...</td>\n      <td>0.0</td>\n      <td>1.3365</td>\n      <td>1.786232</td>\n      <td>125.5605</td>\n      <td>63.287860</td>\n      <td>18.0</td>\n      <td>18.0</td>\n      <td>51.0</td>\n      <td>31.0</td>\n      <td>...</td>\n      <td>436.098059</td>\n      <td>64.171346</td>\n      <td>2.070043</td>\n      <td>19.841924</td>\n      <td>16.326873</td>\n      <td>0.000000</td>\n      <td>2583.0</td>\n      <td>50.0</td>\n      <td>0.782</td>\n      <td>174.0</td>\n    </tr>\n    <tr>\n      <th>1973</th>\n      <td>COc1cc(OC)cc(\\C=C\\c2ccc(OS(=O)(=O)[C@H]3C[C@H]...</td>\n      <td>0.0</td>\n      <td>1.8193</td>\n      <td>3.309852</td>\n      <td>177.6817</td>\n      <td>89.159790</td>\n      <td>24.0</td>\n      <td>24.0</td>\n      <td>73.0</td>\n      <td>43.0</td>\n      <td>...</td>\n      <td>598.166139</td>\n      <td>88.708522</td>\n      <td>2.062989</td>\n      <td>25.464529</td>\n      <td>20.590936</td>\n      <td>0.000000</td>\n      <td>7421.0</td>\n      <td>70.0</td>\n      <td>2.526</td>\n      <td>236.0</td>\n    </tr>\n  </tbody>\n</table>\n<p>1974 rows × 403 columns</p>\n</div>"
     },
     "execution_count": 3,
     "metadata": {},
     "output_type": "execute_result"
    }
   ],
   "source": [
    "pre_threat_df, pre_threat_names = data_pre_threat()\n",
    "pre_threat_df"
   ],
   "metadata": {
    "collapsed": false,
    "pycharm": {
     "name": "#%%\n"
    }
   }
  },
  {
   "cell_type": "code",
   "execution_count": 4,
   "outputs": [],
   "source": [
    "def get_sequence(m_df, names, csv_path):\n",
    "    \"\"\"\n",
    "    得到计算好的序列\n",
    "    :param m_df: 数据表\n",
    "    :param names: 名称\n",
    "    :param csv_path: 路径\n",
    "    :return: 处理好的序列\n",
    "    \"\"\"\n",
    "    if os.path.exists(csv_path):\n",
    "        sequence = pd.read_csv(csv_path)\n",
    "    else:\n",
    "        sequence = get_sequence_divide_mean(m_df, names)\n",
    "        sequence.to_csv(csv_path, index=False)\n",
    "    return sequence"
   ],
   "metadata": {
    "collapsed": false,
    "pycharm": {
     "name": "#%%\n"
    }
   }
  },
  {
   "cell_type": "code",
   "execution_count": 5,
   "outputs": [],
   "source": [
    "def get_mean_sequence():\n",
    "    era_names, era_df = get_objs_in_csv(\"../dataset/train/ERa_activity.csv\")\n",
    "    # 得到母序列均值商\n",
    "    parent = get_sequence(era_df, ['pIC50'], csv1_path)\n",
    "    # 得到子序列均值商\n",
    "    child_names1 = pre_threat_names[1:]\n",
    "    child = get_sequence(pre_threat_df, child_names1, csv2_path)\n",
    "    return parent, child, child_names1"
   ],
   "metadata": {
    "collapsed": false,
    "pycharm": {
     "name": "#%%\n"
    }
   }
  },
  {
   "cell_type": "code",
   "execution_count": 6,
   "outputs": [
    {
     "name": "stderr",
     "output_type": "stream",
     "text": [
      "  0%|          | 0/402 [00:00<?, ?it/s]C:\\Project\\My\\mathematical-model\\d_2021\\utils\\math_utils.py:58: RuntimeWarning: invalid value encountered in double_scalars\n",
      "  t_df.loc[i, name] = t1_df[i] / t_df_mean\n",
      "100%|██████████| 402/402 [00:46<00:00,  8.64it/s]\n"
     ]
    }
   ],
   "source": [
    "parent_sequence, child_sequence, child_names = get_mean_sequence()"
   ],
   "metadata": {
    "collapsed": false,
    "pycharm": {
     "name": "#%%\n"
    }
   }
  },
  {
   "cell_type": "code",
   "execution_count": 12,
   "outputs": [],
   "source": [
    "def cal_ab():\n",
    "    local_min = 100\n",
    "    local_max = 0\n",
    "    for name in pre_threat_names[1:]:\n",
    "        # 对每一个子序列，计算对应值\n",
    "        sequence = child_sequence[name]\n",
    "        for i in range(len(sequence)):\n",
    "            # 每一行的数相减\n",
    "            t = abs(sequence[i] - parent_sequence['pIC50'][i])\n",
    "            if t < local_min:\n",
    "                local_min = t\n",
    "            if t > local_max:\n",
    "                local_max = t\n",
    "    return local_min, local_max"
   ],
   "metadata": {
    "collapsed": false,
    "pycharm": {
     "name": "#%%\n"
    }
   }
  },
  {
   "cell_type": "code",
   "execution_count": 13,
   "outputs": [],
   "source": [
    "a, b = cal_ab()"
   ],
   "metadata": {
    "collapsed": false,
    "pycharm": {
     "name": "#%%\n"
    }
   }
  },
  {
   "cell_type": "code",
   "execution_count": 10,
   "outputs": [],
   "source": [
    "def cal_relevancy():\n",
    "    copy_child = child_sequence.copy()\n",
    "    p = 0.5\n",
    "    for name in tqdm(child_names):\n",
    "        # 对每一个子序列，计算对应值\n",
    "        sequence = copy_child[name]\n",
    "        for i in range(len(sequence)):\n",
    "            # 计算关联度\n",
    "            sequence[i] = (a + p * b) / (abs(sequence[i] - parent_sequence['pIC50'][i]) + p * b)\n",
    "    copy_child.to_csv(csv3_path, index=False)\n",
    "    return copy_child"
   ],
   "metadata": {
    "collapsed": false,
    "pycharm": {
     "name": "#%%\n"
    }
   }
  },
  {
   "cell_type": "code",
   "execution_count": 11,
   "outputs": [
    {
     "name": "stderr",
     "output_type": "stream",
     "text": [
      "100%|██████████| 402/402 [05:26<00:00,  1.23it/s]\n"
     ]
    }
   ],
   "source": [
    "relevancy_df = cal_relevancy()"
   ],
   "metadata": {
    "collapsed": false,
    "pycharm": {
     "name": "#%%\n"
    }
   }
  },
  {
   "cell_type": "code",
   "execution_count": 14,
   "outputs": [
    {
     "data": {
      "text/plain": "      nAcid     ALogP    ALogp2       AMR      apol  naAromAtom  nAromBond  \\\n0       NaN  0.997617  0.998047  0.999660  0.999883    0.999183   0.999132   \n1       NaN  0.996958  0.998540  0.999848  0.999849    0.999294   0.999243   \n2       NaN  0.998999  0.998329  0.999864  0.999902    0.999797   0.999720   \n3       NaN  0.997619  0.998104  0.999802  0.999915    0.999228   0.999176   \n4       NaN  0.999927  0.999172  0.999995  0.999952    0.999885   0.999808   \n...     ...       ...       ...       ...       ...         ...        ...   \n1969    NaN  0.998984  0.999509  0.999085  0.999161    0.999057   0.999160   \n1970    NaN  0.999092  0.999706  0.999152  0.999253    0.998992   0.999094   \n1971    NaN  0.999527  0.999859  0.999588  0.999688    0.999427   0.999529   \n1972    NaN  0.999959  0.999200  0.999820  0.999773    0.999942   0.999865   \n1973    NaN  0.999319  0.999843  0.999419  0.999496    0.999391   0.999494   \n\n         nAtom  nHeavyAtom        nH  ...        MW    WTPT-1    WTPT-2  \\\n0     0.999944    0.999696  0.999746  ...  0.999729  0.999723  0.999557   \n1     0.999762    0.999917  0.999362  ...  0.999951  0.999946  0.999668   \n2     0.999905    0.999827  0.999998  ...  0.999845  0.999851  0.999574   \n3     0.999829    0.999850  0.999428  ...  0.999884  0.999878  0.999600   \n4     0.999946    0.999915  0.999773  ...  0.999925  0.999943  0.999665   \n...        ...         ...       ...  ...       ...       ...       ...   \n1969  0.999207    0.999072  0.999377  ...  0.999070  0.999064  0.999888   \n1970  0.999324    0.999116  0.999585  ...  0.999115  0.999106  0.999821   \n1971  0.999760    0.999551  0.999980  ...  0.999550  0.999541  0.999744   \n1972  0.999715    0.999863  0.999531  ...  0.999883  0.999874  0.999709   \n1973  0.999542    0.999406  0.999711  ...  0.999404  0.999398  0.999778   \n\n        WTPT-3    WTPT-4    WTPT-5     WPATH      WPOL     XLogP    Zagreb  \n0     0.999539  0.999561  0.999156  0.999886  0.999560  0.999542  0.999692  \n1     0.999652  0.999673  0.999266  0.999687  0.999904  0.998831  0.999884  \n2     0.999814  0.999971  0.999177  0.999760  0.999748  0.999582  0.999815  \n3     0.999584  0.999605  0.999200  0.999704  0.999705  0.998786  0.999818  \n4     0.999649  0.999670  0.999265  0.999639  0.999770  0.999539  0.999883  \n...        ...       ...       ...       ...       ...       ...       ...  \n1969  0.998889  0.997797  0.998574  0.996969  0.999100  0.999905  0.999019  \n1970  0.998878  0.997732  0.998639  0.997497  0.999168  0.999631  0.999035  \n1971  0.999313  0.998166  0.998205  0.997774  0.999603  0.999196  0.999470  \n1972  0.999858  0.998955  0.998166  0.999784  0.999827  0.998578  0.999940  \n1973  0.999224  0.998131  0.998240  0.997115  0.999435  0.999570  0.999353  \n\n[1974 rows x 402 columns]",
      "text/html": "<div>\n<style scoped>\n    .dataframe tbody tr th:only-of-type {\n        vertical-align: middle;\n    }\n\n    .dataframe tbody tr th {\n        vertical-align: top;\n    }\n\n    .dataframe thead th {\n        text-align: right;\n    }\n</style>\n<table border=\"1\" class=\"dataframe\">\n  <thead>\n    <tr style=\"text-align: right;\">\n      <th></th>\n      <th>nAcid</th>\n      <th>ALogP</th>\n      <th>ALogp2</th>\n      <th>AMR</th>\n      <th>apol</th>\n      <th>naAromAtom</th>\n      <th>nAromBond</th>\n      <th>nAtom</th>\n      <th>nHeavyAtom</th>\n      <th>nH</th>\n      <th>...</th>\n      <th>MW</th>\n      <th>WTPT-1</th>\n      <th>WTPT-2</th>\n      <th>WTPT-3</th>\n      <th>WTPT-4</th>\n      <th>WTPT-5</th>\n      <th>WPATH</th>\n      <th>WPOL</th>\n      <th>XLogP</th>\n      <th>Zagreb</th>\n    </tr>\n  </thead>\n  <tbody>\n    <tr>\n      <th>0</th>\n      <td>NaN</td>\n      <td>0.997617</td>\n      <td>0.998047</td>\n      <td>0.999660</td>\n      <td>0.999883</td>\n      <td>0.999183</td>\n      <td>0.999132</td>\n      <td>0.999944</td>\n      <td>0.999696</td>\n      <td>0.999746</td>\n      <td>...</td>\n      <td>0.999729</td>\n      <td>0.999723</td>\n      <td>0.999557</td>\n      <td>0.999539</td>\n      <td>0.999561</td>\n      <td>0.999156</td>\n      <td>0.999886</td>\n      <td>0.999560</td>\n      <td>0.999542</td>\n      <td>0.999692</td>\n    </tr>\n    <tr>\n      <th>1</th>\n      <td>NaN</td>\n      <td>0.996958</td>\n      <td>0.998540</td>\n      <td>0.999848</td>\n      <td>0.999849</td>\n      <td>0.999294</td>\n      <td>0.999243</td>\n      <td>0.999762</td>\n      <td>0.999917</td>\n      <td>0.999362</td>\n      <td>...</td>\n      <td>0.999951</td>\n      <td>0.999946</td>\n      <td>0.999668</td>\n      <td>0.999652</td>\n      <td>0.999673</td>\n      <td>0.999266</td>\n      <td>0.999687</td>\n      <td>0.999904</td>\n      <td>0.998831</td>\n      <td>0.999884</td>\n    </tr>\n    <tr>\n      <th>2</th>\n      <td>NaN</td>\n      <td>0.998999</td>\n      <td>0.998329</td>\n      <td>0.999864</td>\n      <td>0.999902</td>\n      <td>0.999797</td>\n      <td>0.999720</td>\n      <td>0.999905</td>\n      <td>0.999827</td>\n      <td>0.999998</td>\n      <td>...</td>\n      <td>0.999845</td>\n      <td>0.999851</td>\n      <td>0.999574</td>\n      <td>0.999814</td>\n      <td>0.999971</td>\n      <td>0.999177</td>\n      <td>0.999760</td>\n      <td>0.999748</td>\n      <td>0.999582</td>\n      <td>0.999815</td>\n    </tr>\n    <tr>\n      <th>3</th>\n      <td>NaN</td>\n      <td>0.997619</td>\n      <td>0.998104</td>\n      <td>0.999802</td>\n      <td>0.999915</td>\n      <td>0.999228</td>\n      <td>0.999176</td>\n      <td>0.999829</td>\n      <td>0.999850</td>\n      <td>0.999428</td>\n      <td>...</td>\n      <td>0.999884</td>\n      <td>0.999878</td>\n      <td>0.999600</td>\n      <td>0.999584</td>\n      <td>0.999605</td>\n      <td>0.999200</td>\n      <td>0.999704</td>\n      <td>0.999705</td>\n      <td>0.998786</td>\n      <td>0.999818</td>\n    </tr>\n    <tr>\n      <th>4</th>\n      <td>NaN</td>\n      <td>0.999927</td>\n      <td>0.999172</td>\n      <td>0.999995</td>\n      <td>0.999952</td>\n      <td>0.999885</td>\n      <td>0.999808</td>\n      <td>0.999946</td>\n      <td>0.999915</td>\n      <td>0.999773</td>\n      <td>...</td>\n      <td>0.999925</td>\n      <td>0.999943</td>\n      <td>0.999665</td>\n      <td>0.999649</td>\n      <td>0.999670</td>\n      <td>0.999265</td>\n      <td>0.999639</td>\n      <td>0.999770</td>\n      <td>0.999539</td>\n      <td>0.999883</td>\n    </tr>\n    <tr>\n      <th>...</th>\n      <td>...</td>\n      <td>...</td>\n      <td>...</td>\n      <td>...</td>\n      <td>...</td>\n      <td>...</td>\n      <td>...</td>\n      <td>...</td>\n      <td>...</td>\n      <td>...</td>\n      <td>...</td>\n      <td>...</td>\n      <td>...</td>\n      <td>...</td>\n      <td>...</td>\n      <td>...</td>\n      <td>...</td>\n      <td>...</td>\n      <td>...</td>\n      <td>...</td>\n      <td>...</td>\n    </tr>\n    <tr>\n      <th>1969</th>\n      <td>NaN</td>\n      <td>0.998984</td>\n      <td>0.999509</td>\n      <td>0.999085</td>\n      <td>0.999161</td>\n      <td>0.999057</td>\n      <td>0.999160</td>\n      <td>0.999207</td>\n      <td>0.999072</td>\n      <td>0.999377</td>\n      <td>...</td>\n      <td>0.999070</td>\n      <td>0.999064</td>\n      <td>0.999888</td>\n      <td>0.998889</td>\n      <td>0.997797</td>\n      <td>0.998574</td>\n      <td>0.996969</td>\n      <td>0.999100</td>\n      <td>0.999905</td>\n      <td>0.999019</td>\n    </tr>\n    <tr>\n      <th>1970</th>\n      <td>NaN</td>\n      <td>0.999092</td>\n      <td>0.999706</td>\n      <td>0.999152</td>\n      <td>0.999253</td>\n      <td>0.998992</td>\n      <td>0.999094</td>\n      <td>0.999324</td>\n      <td>0.999116</td>\n      <td>0.999585</td>\n      <td>...</td>\n      <td>0.999115</td>\n      <td>0.999106</td>\n      <td>0.999821</td>\n      <td>0.998878</td>\n      <td>0.997732</td>\n      <td>0.998639</td>\n      <td>0.997497</td>\n      <td>0.999168</td>\n      <td>0.999631</td>\n      <td>0.999035</td>\n    </tr>\n    <tr>\n      <th>1971</th>\n      <td>NaN</td>\n      <td>0.999527</td>\n      <td>0.999859</td>\n      <td>0.999588</td>\n      <td>0.999688</td>\n      <td>0.999427</td>\n      <td>0.999529</td>\n      <td>0.999760</td>\n      <td>0.999551</td>\n      <td>0.999980</td>\n      <td>...</td>\n      <td>0.999550</td>\n      <td>0.999541</td>\n      <td>0.999744</td>\n      <td>0.999313</td>\n      <td>0.998166</td>\n      <td>0.998205</td>\n      <td>0.997774</td>\n      <td>0.999603</td>\n      <td>0.999196</td>\n      <td>0.999470</td>\n    </tr>\n    <tr>\n      <th>1972</th>\n      <td>NaN</td>\n      <td>0.999959</td>\n      <td>0.999200</td>\n      <td>0.999820</td>\n      <td>0.999773</td>\n      <td>0.999942</td>\n      <td>0.999865</td>\n      <td>0.999715</td>\n      <td>0.999863</td>\n      <td>0.999531</td>\n      <td>...</td>\n      <td>0.999883</td>\n      <td>0.999874</td>\n      <td>0.999709</td>\n      <td>0.999858</td>\n      <td>0.998955</td>\n      <td>0.998166</td>\n      <td>0.999784</td>\n      <td>0.999827</td>\n      <td>0.998578</td>\n      <td>0.999940</td>\n    </tr>\n    <tr>\n      <th>1973</th>\n      <td>NaN</td>\n      <td>0.999319</td>\n      <td>0.999843</td>\n      <td>0.999419</td>\n      <td>0.999496</td>\n      <td>0.999391</td>\n      <td>0.999494</td>\n      <td>0.999542</td>\n      <td>0.999406</td>\n      <td>0.999711</td>\n      <td>...</td>\n      <td>0.999404</td>\n      <td>0.999398</td>\n      <td>0.999778</td>\n      <td>0.999224</td>\n      <td>0.998131</td>\n      <td>0.998240</td>\n      <td>0.997115</td>\n      <td>0.999435</td>\n      <td>0.999570</td>\n      <td>0.999353</td>\n    </tr>\n  </tbody>\n</table>\n<p>1974 rows × 402 columns</p>\n</div>"
     },
     "execution_count": 14,
     "metadata": {},
     "output_type": "execute_result"
    }
   ],
   "source": [
    "relevancy_df"
   ],
   "metadata": {
    "collapsed": false,
    "pycharm": {
     "name": "#%%\n"
    }
   }
  },
  {
   "cell_type": "code",
   "execution_count": 15,
   "outputs": [
    {
     "data": {
      "text/plain": "(6.07892792214848e-07, 1303.552405293812)"
     },
     "execution_count": 15,
     "metadata": {},
     "output_type": "execute_result"
    }
   ],
   "source": [
    "a,b"
   ],
   "metadata": {
    "collapsed": false,
    "pycharm": {
     "name": "#%%\n"
    }
   }
  },
  {
   "cell_type": "code",
   "execution_count": null,
   "outputs": [],
   "source": [],
   "metadata": {
    "collapsed": false,
    "pycharm": {
     "name": "#%%\n"
    }
   }
  }
 ],
 "metadata": {
  "kernelspec": {
   "display_name": "Python 3",
   "language": "python",
   "name": "python3"
  },
  "language_info": {
   "codemirror_mode": {
    "name": "ipython",
    "version": 2
   },
   "file_extension": ".py",
   "mimetype": "text/x-python",
   "name": "python",
   "nbconvert_exporter": "python",
   "pygments_lexer": "ipython2",
   "version": "2.7.6"
  }
 },
 "nbformat": 4,
 "nbformat_minor": 0
}