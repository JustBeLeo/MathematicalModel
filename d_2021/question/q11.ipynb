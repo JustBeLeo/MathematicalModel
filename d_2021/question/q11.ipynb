{
 "cells": [
  {
   "cell_type": "code",
   "execution_count": null,
   "outputs": [],
   "source": [
    "import os\n",
    "\n",
    "from d_2021.config.path import *\n",
    "from d_2021.utils.import_utils import *\n",
    "from d_2021.utils.math_utils import *\n",
    "from d_2021.utils.common_utils import *\n",
    "from tqdm import *"
   ],
   "metadata": {
    "collapsed": false,
    "pycharm": {
     "name": "#%%\n"
    }
   }
  },
  {
   "cell_type": "code",
   "execution_count": null,
   "outputs": [],
   "source": [
    "def data_pre_threat():\n",
    "    if os.path.exists(md_df_path):\n",
    "        md_df_3 = pd.read_csv(md_df_path)\n",
    "        md_names = md_df_3.columns.tolist()\n",
    "    else:\n",
    "        md_names, md_df = get_objs_in_csv(\"../dataset/train/Molecular_Descriptor.csv\")\n",
    "        print('总特征数:', len(md_names) - 1)\n",
    "        error_names = []\n",
    "        for md_name in md_names[1:]:\n",
    "            row = md_df[md_name]\n",
    "            row = str_list_2_int(row)\n",
    "            min_num, Q1, Q2, Q3, max_num = get_box_plot(row, md_name, False)\n",
    "            # 计算异常值数量\n",
    "            error_count = 0\n",
    "            for n in row:\n",
    "                if n < min_num or n > max_num:\n",
    "                    error_count += 1\n",
    "            if error_count > 100:\n",
    "                error_names.append(md_name)\n",
    "        print('异常值数量:', len(error_names))\n",
    "        md_df_2 = remove_names(md_df, md_names, error_names)\n",
    "        # 含0大于0.9的列\n",
    "        zero_names = []\n",
    "        for md_name in md_names[1:]:\n",
    "            row = md_df_2[md_name]\n",
    "            p = count_zero(row)\n",
    "            if p > 0.9:\n",
    "                zero_names.append(md_name)\n",
    "        print('0值大于90%数量:', len(zero_names))\n",
    "        md_df_3 = remove_names(md_df, md_names, zero_names)\n",
    "        print('筛选后总数', len(md_names) - 1)\n",
    "        md_df_3.to_csv(md_df_path, index=False)\n",
    "    return md_df_3, md_names"
   ],
   "metadata": {
    "collapsed": false,
    "pycharm": {
     "name": "#%%\n"
    }
   }
  },
  {
   "cell_type": "code",
   "execution_count": null,
   "outputs": [],
   "source": [
    "def get_sequence(m_df, names, csv_path):\n",
    "    \"\"\"\n",
    "    得到计算好的序列\n",
    "    :param m_df: 数据表\n",
    "    :param names: 名称\n",
    "    :param csv_path: 路径\n",
    "    :return: 处理好的序列\n",
    "    \"\"\"\n",
    "    if os.path.exists(csv_path):\n",
    "        sequence = pd.read_csv(csv_path)\n",
    "    else:\n",
    "        sequence = get_sequence_divide_mean(m_df, names)\n",
    "        sequence.to_csv(csv_path, index=False)\n",
    "    return sequence"
   ],
   "metadata": {
    "collapsed": false,
    "pycharm": {
     "name": "#%%\n"
    }
   }
  },
  {
   "cell_type": "code",
   "execution_count": null,
   "outputs": [],
   "source": [
    "def get_mean_sequence(pre_threat_df=None, pre_threat_names=None):\n",
    "    era_names, era_df = get_objs_in_csv(\"../dataset/train/ERa_activity.csv\")\n",
    "    # 得到母序列均值商\n",
    "    parent = get_sequence(era_df, ['pIC50'], csv1_path)\n",
    "    # 得到子序列均值商\n",
    "    child_names1 = pre_threat_names[1:]\n",
    "    child = get_sequence(pre_threat_df, child_names1, csv2_path)\n",
    "    return parent, child, child_names1"
   ],
   "metadata": {
    "collapsed": false,
    "pycharm": {
     "name": "#%%\n"
    }
   }
  },
  {
   "cell_type": "code",
   "execution_count": null,
   "outputs": [],
   "source": [
    "def cal_ab(child_names=None, child_sequence=None, parent_sequence=None):\n",
    "    local_min = 100\n",
    "    local_max = 0\n",
    "    for name in child_names:\n",
    "        # 对每一个子序列，计算对应值\n",
    "        sequence = child_sequence[name]\n",
    "        for i in range(len(sequence)):\n",
    "            # 每一行的数相减\n",
    "            t = abs(sequence[i] - parent_sequence['pIC50'][i])\n",
    "            if t < local_min:\n",
    "                local_min = t\n",
    "            if t > local_max:\n",
    "                local_max = t\n",
    "    return local_min, local_max"
   ],
   "metadata": {
    "collapsed": false,
    "pycharm": {
     "name": "#%%\n"
    }
   }
  },
  {
   "cell_type": "code",
   "execution_count": null,
   "outputs": [],
   "source": [
    "def cal_relevancy(child_sequence=None, child_names=None, parent_sequence=None):\n",
    "    copy_child = child_sequence.copy()\n",
    "    p = 0.5\n",
    "    for name in tqdm(child_names):\n",
    "        # 对每一个子序列，计算对应值\n",
    "        sequence = copy_child[name]\n",
    "        for i in range(len(sequence)):\n",
    "            # 计算关联度\n",
    "            sequence[i] = (a + p * b) / (abs(sequence[i] - parent_sequence['pIC50'][i]) + p * b)\n",
    "    copy_child.to_csv(csv3_path, index=False)\n",
    "    return copy_child"
   ],
   "metadata": {
    "collapsed": false,
    "pycharm": {
     "name": "#%%\n"
    }
   }
  }
 ],
 "metadata": {
  "kernelspec": {
   "display_name": "Python 3",
   "language": "python",
   "name": "python3"
  },
  "language_info": {
   "codemirror_mode": {
    "name": "ipython",
    "version": 2
   },
   "file_extension": ".py",
   "mimetype": "text/x-python",
   "name": "python",
   "nbconvert_exporter": "python",
   "pygments_lexer": "ipython2",
   "version": "2.7.6"
  }
 },
 "nbformat": 4,
 "nbformat_minor": 0
}